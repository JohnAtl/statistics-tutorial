{
 "cells": [
  {
   "cell_type": "markdown",
   "id": "a246b8cd",
   "metadata": {},
   "source": [
    "# Statistics Tutorial - Lesson 1\n",
    "# Mean, Median and Mode"
   ]
  },
  {
   "cell_type": "markdown",
   "id": "b40278d7",
   "metadata": {},
   "source": [
    "## Mean\n",
    "[Mean](https://en.wikipedia.org/wiki/Mean), or usually referred as arithmetic mean, is one of the basic concepts in statistics. It represents a central value of a finite set of numbers. The formula of mean is the sum of all numbers divided by the number of numbers, i.e.\n",
    "$$\\mu = \\frac{\\sum_{i=1}^{n}x_{i}}{n}$$"
   ]
  },
  {
   "cell_type": "code",
   "execution_count": 1,
   "id": "53a8bba1",
   "metadata": {},
   "outputs": [
    {
     "name": "stdout",
     "output_type": "stream",
     "text": [
      "Mean is 42.40\n"
     ]
    }
   ],
   "source": [
    "# Example 1\n",
    "def get_mean(given_list):\n",
    "    \"\"\"\n",
    "    Function for calculating arithmetic mean\n",
    "    \"\"\"\n",
    "    return sum(given_list)/len(given_list)\n",
    "\n",
    "# Calculate the mean of 5 stock price values\n",
    "stock_prices =[40, 45, 46, 42, 39]\n",
    "mean_value = get_mean(stock_prices)\n",
    "print('Mean is {:.2f}'.format(mean_value))"
   ]
  },
  {
   "cell_type": "code",
   "execution_count": 2,
   "id": "04deb9c8",
   "metadata": {
    "scrolled": true
   },
   "outputs": [
    {
     "name": "stdout",
     "output_type": "stream",
     "text": [
      "Mean is 42.40\n"
     ]
    }
   ],
   "source": [
    "# Example 2\n",
    "# by built-in statistics library\n",
    "from statistics import mean\n",
    "mean_value = mean(stock_prices)\n",
    "print('Mean is {:.2f}'.format(mean_value))"
   ]
  },
  {
   "cell_type": "markdown",
   "id": "fafa50d8",
   "metadata": {},
   "source": [
    "For data science, [NumPy](https://numpy.org/), a large collection of high-level mathematical functions, is often used."
   ]
  },
  {
   "cell_type": "code",
   "execution_count": 3,
   "id": "81e28346",
   "metadata": {},
   "outputs": [
    {
     "name": "stdout",
     "output_type": "stream",
     "text": [
      "Mean is 42.40\n"
     ]
    }
   ],
   "source": [
    "# Example 3\n",
    "# by NumPy\n",
    "import numpy as np\n",
    "stock_price_array = np.array(stock_prices)\n",
    "mean_value = np.mean(stock_price_array)\n",
    "print('Mean is {:.2f}'.format(mean_value))"
   ]
  },
  {
   "cell_type": "markdown",
   "id": "82de3149",
   "metadata": {},
   "source": [
    "## Median\n",
    "[Median](https://en.wikipedia.org/wiki/Median) is a number separating the higher half from the lower half of a data set. It is often thought as the midpoint value of a data set. If the data set has an odd number of numbers, the middle one is selected; if the data set has an even number of numbers, the median is usually defined as the average of the two middle values."
   ]
  },
  {
   "cell_type": "code",
   "execution_count": 4,
   "id": "32302b9d",
   "metadata": {},
   "outputs": [
    {
     "name": "stdout",
     "output_type": "stream",
     "text": [
      "Median of A set is 42\n",
      "Median of B set is 33.5\n"
     ]
    }
   ],
   "source": [
    "# Example 1\n",
    "def get_median(sorted_list):\n",
    "    \"\"\"\n",
    "    Calculate Median of given sorted list\n",
    "    - the midpoint is meaningful when values are sorted\n",
    "    \"\"\"\n",
    "    count = len(sorted_list)\n",
    "    if count % 2 == 1:\n",
    "        return sorted_list[count//2]\n",
    "    else:\n",
    "        return (sorted_list[count//2-1] + sorted_list[count//2]) / 2\n",
    "\n",
    "stock_A_prices = sorted([40, 45, 46, 42, 39])    \n",
    "median_A_value = get_median(stock_A_prices)\n",
    "print('Median of A set is {}'.format(median_A_value))\n",
    "\n",
    "stock_B_prices = sorted([30, 34, 36, 33, 42, 19])\n",
    "median_B_value = get_median(stock_B_prices)\n",
    "print('Median of B set is {}'.format(median_B_value))"
   ]
  },
  {
   "cell_type": "code",
   "execution_count": 5,
   "id": "75bde260",
   "metadata": {},
   "outputs": [
    {
     "name": "stdout",
     "output_type": "stream",
     "text": [
      "Median of A set is 42\n",
      "Median of B set is 33.5\n"
     ]
    }
   ],
   "source": [
    "# Example 2\n",
    "# by built-in statistics library\n",
    "from statistics import median\n",
    "\n",
    "median_A_value = median(stock_A_prices)\n",
    "print('Median of A set is {}'.format(median_A_value))\n",
    "\n",
    "median_B_value = median(stock_B_prices)\n",
    "print('Median of B set is {}'.format(median_B_value))"
   ]
  },
  {
   "cell_type": "code",
   "execution_count": 6,
   "id": "718390a7",
   "metadata": {},
   "outputs": [
    {
     "name": "stdout",
     "output_type": "stream",
     "text": [
      "Median of A set is 42.0\n",
      "Median of B set is 33.5\n"
     ]
    }
   ],
   "source": [
    "# Example 3\n",
    "# by NumPy\n",
    "stock_A_array = np.array(stock_A_prices) \n",
    "median_A_value = np.median(stock_A_array)\n",
    "print('Median of A set is {}'.format(median_A_value))\n",
    "\n",
    "stock_B_array = np.array(stock_B_prices) \n",
    "median_B_value = np.median(stock_B_array)\n",
    "print('Median of B set is {}'.format(median_B_value))"
   ]
  },
  {
   "cell_type": "markdown",
   "id": "4a3a5357",
   "metadata": {},
   "source": [
    "## Mode\n",
    "[Mode](https://en.wikipedia.org/wiki/Mode_%28statistics%29) is a number which appears most often in a data set. A data set is said as multimodal if no number in the set appears more than 1 time, so every number in the set is a valid mode."
   ]
  },
  {
   "cell_type": "code",
   "execution_count": 7,
   "id": "8237d403",
   "metadata": {},
   "outputs": [
    {
     "name": "stdout",
     "output_type": "stream",
     "text": [
      "Mode is 3\n"
     ]
    }
   ],
   "source": [
    "# Example 1\n",
    "def get_mode(given_list):\n",
    "    \"\"\"\n",
    "    Get a mode from constructing unique numbers against their count\n",
    "    \"\"\"\n",
    "    return max(set(given_list), key=given_list.count)\n",
    "\n",
    "signal_list = [5, 4, 3, 2, 1, 2, 3, 3]\n",
    "mode_value = get_mode(signal_list)\n",
    "print('Mode is {}'.format(mode_value))"
   ]
  },
  {
   "cell_type": "code",
   "execution_count": 8,
   "id": "37ca380d",
   "metadata": {},
   "outputs": [
    {
     "name": "stdout",
     "output_type": "stream",
     "text": [
      "Mode is 3\n"
     ]
    }
   ],
   "source": [
    "# Example 2\n",
    "# by built-in statistics library\n",
    "from statistics import mode\n",
    "mode_value = mode(signal_list)\n",
    "print('Mode is {}'.format(mode_value))"
   ]
  },
  {
   "cell_type": "markdown",
   "id": "478d5e76",
   "metadata": {},
   "source": [
    "Another library often used in data science is [SciPy](https://scipy.org/). It contains common functions for scientific computing and technical computing."
   ]
  },
  {
   "cell_type": "code",
   "execution_count": 9,
   "id": "41f50ec3",
   "metadata": {},
   "outputs": [
    {
     "name": "stdout",
     "output_type": "stream",
     "text": [
      "Mode is 3\n"
     ]
    }
   ],
   "source": [
    "# Example 3\n",
    "# by SciPy\n",
    "from scipy import stats\n",
    "mode_result = stats.mode(signal_list)\n",
    "print('Mode is {}'.format(mode_result.mode[0]))"
   ]
  },
  {
   "cell_type": "code",
   "execution_count": null,
   "id": "443161e2",
   "metadata": {},
   "outputs": [],
   "source": []
  }
 ],
 "metadata": {
  "kernelspec": {
   "display_name": "Python 3 (ipykernel)",
   "language": "python",
   "name": "python3"
  },
  "language_info": {
   "codemirror_mode": {
    "name": "ipython",
    "version": 3
   },
   "file_extension": ".py",
   "mimetype": "text/x-python",
   "name": "python",
   "nbconvert_exporter": "python",
   "pygments_lexer": "ipython3",
   "version": "3.9.7"
  }
 },
 "nbformat": 4,
 "nbformat_minor": 5
}
