{
 "cells": [
  {
   "cell_type": "markdown",
   "id": "a246b8cd",
   "metadata": {},
   "source": [
    "# Statistics Tutorial - Lesson 1\n",
    "# Mean, Median and Mode\n",
    "\n",
    "Mean, Median and Mode are measures of [central tendency](https://en.wikipedia.org/wiki/Central_tendency), which is a central or typical value for a probability distribution."
   ]
  },
  {
   "cell_type": "markdown",
   "id": "b40278d7",
   "metadata": {},
   "source": [
    "## Mean\n",
    "[Mean](https://en.wikipedia.org/wiki/Mean), or usually referred as arithmetic mean, is one of the basic concepts in statistics. It represents a central value of a finite set of numbers. The formula of mean is the sum of all numbers divided by the number of numbers, i.e.\n",
    "$$\\mu = \\frac{\\sum_{i=1}^{n}x_{i}}{n}$$"
   ]
  },
  {
   "cell_type": "code",
   "execution_count": 1,
   "id": "53a8bba1",
   "metadata": {},
   "outputs": [
    {
     "name": "stdout",
     "output_type": "stream",
     "text": [
      "Mean is 42.40\n"
     ]
    }
   ],
   "source": [
    "# Example 1\n",
    "def get_mean(given_list):\n",
    "    \"\"\"\n",
    "    Function for calculating arithmetic mean\n",
    "    \"\"\"\n",
    "    return sum(given_list)/len(given_list)\n",
    "\n",
    "# Calculate the mean of 5 stock price values\n",
    "stock_prices =[40, 45, 46, 42, 39]\n",
    "mean_value = get_mean(stock_prices)\n",
    "print('Mean is {:.2f}'.format(mean_value))"
   ]
  },
  {
   "cell_type": "code",
   "execution_count": 2,
   "id": "04deb9c8",
   "metadata": {
    "scrolled": true
   },
   "outputs": [
    {
     "name": "stdout",
     "output_type": "stream",
     "text": [
      "Mean is 42.40\n"
     ]
    }
   ],
   "source": [
    "# Example 2\n",
    "# by built-in statistics library\n",
    "from statistics import mean\n",
    "mean_value = mean(stock_prices)\n",
    "print('Mean is {:.2f}'.format(mean_value))"
   ]
  },
  {
   "cell_type": "markdown",
   "id": "fafa50d8",
   "metadata": {},
   "source": [
    "For data science, [NumPy](https://numpy.org/), a large collection of high-level mathematical functions, is often used."
   ]
  },
  {
   "cell_type": "code",
   "execution_count": 3,
   "id": "81e28346",
   "metadata": {},
   "outputs": [
    {
     "name": "stdout",
     "output_type": "stream",
     "text": [
      "Mean is 42.40\n"
     ]
    }
   ],
   "source": [
    "# Example 3\n",
    "# by NumPy\n",
    "import numpy as np\n",
    "stock_price_array = np.array(stock_prices)\n",
    "mean_value = np.mean(stock_price_array)\n",
    "print('Mean is {:.2f}'.format(mean_value))"
   ]
  },
  {
   "cell_type": "markdown",
   "id": "82de3149",
   "metadata": {},
   "source": [
    "## Median\n",
    "[Median](https://en.wikipedia.org/wiki/Median) is a number separating the higher half from the lower half of a data set. It is often thought as the midpoint value of a data set. If the data set has an odd number of numbers, the middle one is selected; if the data set has an even number of numbers, the median is usually defined as the average of the two middle values."
   ]
  },
  {
   "cell_type": "code",
   "execution_count": 4,
   "id": "32302b9d",
   "metadata": {},
   "outputs": [
    {
     "name": "stdout",
     "output_type": "stream",
     "text": [
      "Median of A set is 42\n",
      "Median of B set is 33.5\n"
     ]
    }
   ],
   "source": [
    "# Example 1\n",
    "def get_median(sorted_list):\n",
    "    \"\"\"\n",
    "    Calculate Median of given sorted list\n",
    "    - the midpoint is meaningful when values are sorted\n",
    "    \"\"\"\n",
    "    count = len(sorted_list)\n",
    "    if count % 2 == 1:\n",
    "        return sorted_list[count//2]\n",
    "    else:\n",
    "        return (sorted_list[count//2-1] + sorted_list[count//2]) / 2\n",
    "\n",
    "stock_A_prices = sorted([40, 45, 46, 42, 39])    \n",
    "median_A_value = get_median(stock_A_prices)\n",
    "print('Median of A set is {}'.format(median_A_value))\n",
    "\n",
    "stock_B_prices = sorted([30, 34, 36, 33, 42, 19])\n",
    "median_B_value = get_median(stock_B_prices)\n",
    "print('Median of B set is {}'.format(median_B_value))"
   ]
  },
  {
   "cell_type": "code",
   "execution_count": 5,
   "id": "75bde260",
   "metadata": {},
   "outputs": [
    {
     "name": "stdout",
     "output_type": "stream",
     "text": [
      "Median of A set is 42\n",
      "Median of B set is 33.5\n"
     ]
    }
   ],
   "source": [
    "# Example 2\n",
    "# by built-in statistics library\n",
    "from statistics import median\n",
    "\n",
    "median_A_value = median(stock_A_prices)\n",
    "print('Median of A set is {}'.format(median_A_value))\n",
    "\n",
    "median_B_value = median(stock_B_prices)\n",
    "print('Median of B set is {}'.format(median_B_value))"
   ]
  },
  {
   "cell_type": "code",
   "execution_count": 6,
   "id": "718390a7",
   "metadata": {},
   "outputs": [
    {
     "name": "stdout",
     "output_type": "stream",
     "text": [
      "Median of A set is 42.0\n",
      "Median of B set is 33.5\n"
     ]
    }
   ],
   "source": [
    "# Example 3\n",
    "# by NumPy\n",
    "stock_A_array = np.array(stock_A_prices) \n",
    "median_A_value = np.median(stock_A_array)\n",
    "print('Median of A set is {}'.format(median_A_value))\n",
    "\n",
    "stock_B_array = np.array(stock_B_prices) \n",
    "median_B_value = np.median(stock_B_array)\n",
    "print('Median of B set is {}'.format(median_B_value))"
   ]
  },
  {
   "cell_type": "markdown",
   "id": "4a3a5357",
   "metadata": {},
   "source": [
    "## Mode\n",
    "[Mode](https://en.wikipedia.org/wiki/Mode_%28statistics%29) is a number which appears most often in a data set. A data set is said as multimodal if no number in the set appears more than 1 time, so every number in the set is a valid mode."
   ]
  },
  {
   "cell_type": "code",
   "execution_count": 7,
   "id": "8237d403",
   "metadata": {},
   "outputs": [
    {
     "name": "stdout",
     "output_type": "stream",
     "text": [
      "Mode is 3\n"
     ]
    }
   ],
   "source": [
    "# Example 1\n",
    "def get_mode(given_list):\n",
    "    \"\"\"\n",
    "    Get a mode from constructing unique numbers against their count\n",
    "    \"\"\"\n",
    "    return max(set(given_list), key=given_list.count)\n",
    "\n",
    "signal_list = [5, 4, 3, 2, 1, 2, 3, 3]\n",
    "mode_value = get_mode(signal_list)\n",
    "print('Mode is {}'.format(mode_value))"
   ]
  },
  {
   "cell_type": "code",
   "execution_count": 8,
   "id": "37ca380d",
   "metadata": {},
   "outputs": [
    {
     "name": "stdout",
     "output_type": "stream",
     "text": [
      "Mode is 3\n"
     ]
    }
   ],
   "source": [
    "# Example 2\n",
    "# by built-in statistics library\n",
    "from statistics import mode\n",
    "mode_value = mode(signal_list)\n",
    "print('Mode is {}'.format(mode_value))"
   ]
  },
  {
   "cell_type": "markdown",
   "id": "478d5e76",
   "metadata": {},
   "source": [
    "Another library often used in data science is [SciPy](https://scipy.org/). It contains common functions for scientific computing and technical computing."
   ]
  },
  {
   "cell_type": "code",
   "execution_count": 9,
   "id": "41f50ec3",
   "metadata": {},
   "outputs": [
    {
     "name": "stdout",
     "output_type": "stream",
     "text": [
      "Mode is 3\n"
     ]
    }
   ],
   "source": [
    "# Example 3\n",
    "# by SciPy\n",
    "from scipy import stats\n",
    "mode_result = stats.mode(signal_list)\n",
    "print('Mode is {}'.format(mode_result.mode[0]))"
   ]
  },
  {
   "cell_type": "markdown",
   "id": "e1d5de11",
   "metadata": {},
   "source": [
    "## Geometric Mean\n",
    "\n",
    "[Geometric Mean](https://en.wikipedia.org/wiki/Geometric_mean) is another common mean value. It is defined as the nth root of the product of n numbers, i.e.\n",
    "$$GM = (\\prod_{i=1}^{n}x_{i})^{\\frac{1}{n}}$$\n",
    "\n",
    "The geometric mean is more appropriate than the arithmetic mean for describing proportional growth, such as [compound annual growth rate](https://en.wikipedia.org/wiki/Compound_annual_growth_rate) and financial index."
   ]
  },
  {
   "cell_type": "code",
   "execution_count": 10,
   "id": "0d72904d",
   "metadata": {},
   "outputs": [
    {
     "name": "stdout",
     "output_type": "stream",
     "text": [
      "Geometric Mean is 31.26\n"
     ]
    }
   ],
   "source": [
    "# Example 1\n",
    "import math\n",
    "\n",
    "def get_gm(data):\n",
    "    return math.pow(math.prod(data), 1.0/len(data))\n",
    "\n",
    "data_set = [12, 24, 36, 48, 60]\n",
    "gm = get_gm(data_set)\n",
    "print('Geometric Mean is {:.2f}'.format(gm))"
   ]
  },
  {
   "cell_type": "code",
   "execution_count": 11,
   "id": "c399cca6",
   "metadata": {
    "scrolled": true
   },
   "outputs": [
    {
     "name": "stdout",
     "output_type": "stream",
     "text": [
      "Geometric Mean is 31.26\n"
     ]
    }
   ],
   "source": [
    "# Example 2\n",
    "# by built-in library\n",
    "from statistics import geometric_mean\n",
    "gm = geometric_mean(data_set)\n",
    "print('Geometric Mean is {:.2f}'.format(gm))"
   ]
  },
  {
   "cell_type": "code",
   "execution_count": 12,
   "id": "774f1bfa",
   "metadata": {},
   "outputs": [
    {
     "name": "stdout",
     "output_type": "stream",
     "text": [
      "Geometric Mean is 31.26\n"
     ]
    }
   ],
   "source": [
    "# Example 3\n",
    "# by SciPy\n",
    "from scipy.stats.mstats import gmean\n",
    "data_array = np.array(data_set)\n",
    "gm = gmean(data_array)\n",
    "print('Geometric Mean is {:.2f}'.format(gm))"
   ]
  },
  {
   "cell_type": "markdown",
   "id": "9b4a4dc1",
   "metadata": {},
   "source": [
    "## Weighted Mean\n",
    "\n",
    "In some scenarios, some data points contribute more than others rather than evenly. The data points come with a corresponding set of weights. The [Weighted Mean](https://en.wikipedia.org/wiki/Weighted_arithmetic_mean) is considered in such scenarios. The formula of Weighted Mean is the sum of the product of each data point and its weight, then divided by the total weight, i.e.\n",
    "$$ m_{w} = \\frac{\\sum_{i=1}^{n}(x_{i} \\times w_{i})}{\\sum_{i=1}^{n}w_{i}} $$\n",
    "where $ x_{i} $ and $ w_{i} $ are the respective $ i^{th} $ element of the data set X and the weight set W"
   ]
  },
  {
   "cell_type": "code",
   "execution_count": 13,
   "id": "672c7d4e",
   "metadata": {},
   "outputs": [
    {
     "name": "stdout",
     "output_type": "stream",
     "text": [
      "The average return is 3.1%\n"
     ]
    }
   ],
   "source": [
    "# Example 1\n",
    "# In a stock market, there are boom, bust and neutral situations.\n",
    "# The situations may happen with likelihood of 30%, 45% and 25% respectively.\n",
    "# And the situations are estimated to give us returns 25% gain, 12% loss and 4% gain respectively.\n",
    "# What is the average return of the stock market?\n",
    "def get_weighted_mean(X_list, W_list):\n",
    "    return sum([x * w for x, w in zip(X_list, W_list)])/sum(W_list)\n",
    "\n",
    "market_returns = [0.25, -0.12, 0.04]\n",
    "likelihood_pcs = [0.3, 0.45, 0.25]\n",
    "average_return = get_weighted_mean(market_returns, likelihood_pcs)\n",
    "print('The average return is {r:.1f}%'.format(r=average_return*100.0))"
   ]
  },
  {
   "cell_type": "code",
   "execution_count": 14,
   "id": "e11e4d30",
   "metadata": {},
   "outputs": [
    {
     "name": "stdout",
     "output_type": "stream",
     "text": [
      "The average return is 3.1%\n"
     ]
    }
   ],
   "source": [
    "# Example 2\n",
    "# by NumPy\n",
    "import numpy as np\n",
    "return_array = np.array(market_returns)\n",
    "likelihood_array = np.array(likelihood_pcs)\n",
    "average_return = np.average(return_array, weights=likelihood_array)\n",
    "print('The average return is {r:.1f}%'.format(r=average_return*100.0))"
   ]
  },
  {
   "cell_type": "markdown",
   "id": "eb88efe4",
   "metadata": {},
   "source": [
    "# Summary\n",
    "\n",
    "This lesson introduces three measures of central tendency. Their PROs and CONs can be summarized as the following:\n",
    "\n",
    "Measures | PROs | CONs\n",
    "-------- | ---- | ----\n",
    "Mean | All values are taken account in calculation. | Extreme numbers can affect the value.\n",
    "Median | Not affected by extreme numbers | If the number of data is even, the median is not any value of the data.\n",
    "Mode | Applicable to non numeric data | Multiple mode values can happen or no mode value exists, i.e. mode does not always represent the data."
   ]
  },
  {
   "cell_type": "code",
   "execution_count": null,
   "id": "538993ec",
   "metadata": {},
   "outputs": [],
   "source": []
  }
 ],
 "metadata": {
  "kernelspec": {
   "display_name": "Python 3 (ipykernel)",
   "language": "python",
   "name": "python3"
  },
  "language_info": {
   "codemirror_mode": {
    "name": "ipython",
    "version": 3
   },
   "file_extension": ".py",
   "mimetype": "text/x-python",
   "name": "python",
   "nbconvert_exporter": "python",
   "pygments_lexer": "ipython3",
   "version": "3.9.7"
  }
 },
 "nbformat": 4,
 "nbformat_minor": 5
}
