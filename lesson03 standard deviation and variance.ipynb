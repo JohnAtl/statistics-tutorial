{
 "cells": [
  {
   "cell_type": "markdown",
   "id": "49e989f2",
   "metadata": {},
   "source": [
    "# Statistics Tutorial - Lesson 3\n",
    "## Standard Deviation and Variance\n",
    "\n",
    "Standard Deviation and Variance, in addition to Interquartile Range, are measures of [statistical dispersion](https://en.wikipedia.org/wiki/Statistical_dispersion), which is variability or spread of the data."
   ]
  },
  {
   "cell_type": "markdown",
   "id": "7cf7974e",
   "metadata": {},
   "source": [
    "## Standard Deviation\n",
    "\n",
    "[Standard Deviation](https://en.wikipedia.org/wiki/Standard_deviation) is calculated as the square root of the average of the square of the difference between each value and the data's mean, i.e.\n",
    "$$\\sigma = \\sqrt{\\frac{1}{N}\\sum_{i=i}^{N}(x_i - \\mu)^{2}}$$\n",
    "\n",
    "A low standard deviation indicates that the data tend to be close to the mean of the set, while a high standard deviation indicates that the data are spread out over a wider range. "
   ]
  },
  {
   "cell_type": "code",
   "execution_count": 34,
   "id": "16d3a042",
   "metadata": {
    "scrolled": true
   },
   "outputs": [
    {
     "name": "stdout",
     "output_type": "stream",
     "text": [
      "The mean is 5.1700, and the Standard Deviation is 0.1380\n"
     ]
    }
   ],
   "source": [
    "from statistics import pstdev, mean\n",
    "\n",
    "alpha_powers = [5.05, 4.92, 5.09, 5.22, 5.38, 5.28, 5.27, 5.15]\n",
    "\n",
    "the_mean = mean(alpha_powers)\n",
    "sd = pstdev(alpha_powers)\n",
    "print('The mean is {:.4f}, and the Standard Deviation is {:.4f}'.format(the_mean,sd))"
   ]
  },
  {
   "cell_type": "code",
   "execution_count": 15,
   "id": "a47c4455",
   "metadata": {},
   "outputs": [
    {
     "data": {
      "text/plain": [
       "<AxesSubplot:ylabel='Frequency'>"
      ]
     },
     "execution_count": 15,
     "metadata": {},
     "output_type": "execute_result"
    },
    {
     "data": {
      "image/png": "[encoded data removed]",
      "text/plain": [
       "<Figure size 864x432 with 1 Axes>"
      ]
     },
     "metadata": {
      "needs_background": "light"
     },
     "output_type": "display_data"
    }
   ],
   "source": [
    "import numpy as np\n",
    "import pandas as pd\n",
    "\n",
    "bin_values = np.arange(start=4.8, stop=5.5, step=.1)\n",
    "alpha_powers = pd.DataFrame(alpha_powers)\n",
    "alpha_powers.plot(kind='hist', bins=bin_values, figsize=[12,6], alpha=.9, legend=False, rwidth=0.8)"
   ]
  },
  {
   "attachments": {
    "python-histograms-boxplots-and-distributions-stddev.png": {
     "image/png": "[encoded data removed]"
    }
   },
   "cell_type": "markdown",
   "id": "c113f907",
   "metadata": {},
   "source": [
    "## 🤔 But what does in mean?\n",
    "\n",
    "This is a plot of the normal distribution:\n",
    "\n",
    "![python-histograms-boxplots-and-distributions-stddev.png](attachment:python-histograms-boxplots-and-distributions-stddev.png)\n",
    "\n",
    "It's **mean** is $0$, and it's **standard deviation** is $1$."
   ]
  },
  {
   "cell_type": "markdown",
   "id": "f17c488b",
   "metadata": {},
   "source": [
    "For our alpha powers, the mean is 5.17, and the standard deviation is 0.14.\n",
    "Looking at the image above, we can conclude that 68.2% of our values are within 1 standard deviation (plus or minus) of our mean.\n",
    "\n",
    "So 68.2% of our values are between 5.17 - 0.14 and 5.17 + 0.14, or 5.03 and 5.31.\n",
    "\n",
    "Looking at our histogram above, we see this is true. We have 8 values, and 6 of them are between 5.03 and 5.31."
   ]
  },
  {
   "cell_type": "markdown",
   "id": "2fc7b22f",
   "metadata": {},
   "source": [
    "## Variance\n",
    "\n",
    "[Variance](https://en.wikipedia.org/wiki/Variance) is calculated as the average of the square of the difference between each value and the data's mean, i.e.\n",
    "$$Var(X) = \\frac{1}{N}\\sum_{i=i}^{N}(x_i - \\mu)^{2}$$\n",
    "\n",
    "The formula apparently shows that variance is just the square of standard deviation. Standard deviation is widely used in practical statistics compared to variance because stadard deviation's unit remains the same as the elements' unit."
   ]
  },
  {
   "cell_type": "code",
   "execution_count": 32,
   "id": "1e9cc567",
   "metadata": {},
   "outputs": [
    {
     "name": "stdout",
     "output_type": "stream",
     "text": [
      "The Variance is 0.0190\n"
     ]
    }
   ],
   "source": [
    "from statistics import pvariance\n",
    "\n",
    "alpha_powers = [5.05, 4.92, 5.09, 5.22, 5.38, 5.28, 5.27, 5.15]\n",
    "\n",
    "var = pvariance(alpha_powers)\n",
    "print('The Variance is {:.4f}'.format(var))\n"
   ]
  },
  {
   "cell_type": "markdown",
   "id": "c2ad985e",
   "metadata": {},
   "source": [
    "## Bessel's correction\n",
    "\n",
    "[Bessel's correction](https://en.wikipedia.org/wiki/Bessel%27s_correction) is the use of (n − 1) instead of n in the formula for the sample variance and sample standard deviation. This is an approach to reduce the bias due to finite sample size. \n",
    "\n",
    "Therefore, the sample variance (unbiased) is calculated as\n",
    "$$s^{2} = \\frac{1}{n-1}\\sum_{i=i}^{n}(x_i - \\overline{x})^{2}$$\n",
    "\n",
    "It is also known that a biased sample variance (calculated as population variance) is multiplied by the factor n/(n-1) to get an unbiased sample variance, i.e. \n",
    "$$s_u^{2} = (\\frac{n}{n-1})s_b^{2}$$"
   ]
  },
  {
   "cell_type": "code",
   "execution_count": 31,
   "id": "69faac33",
   "metadata": {},
   "outputs": [
    {
     "name": "stdout",
     "output_type": "stream",
     "text": [
      "Sample variance is 0.0218\n",
      "Sample standard deviation is 0.1476\n"
     ]
    }
   ],
   "source": [
    "from statistics import variance, stdev\n",
    "\n",
    "alpha_powers = [5.05, 4.92, 5.09, 5.22, 5.38, 5.28, 5.27, 5.15]\n",
    "\n",
    "sample_var = variance(alpha_powers)\n",
    "sample_sd = stdev(alpha_powers)\n",
    "print('Sample variance is {:.4f}'.format(sample_var))\n",
    "print('Sample standard deviation is {:.4f}'.format(sample_sd))"
   ]
  },
  {
   "cell_type": "markdown",
   "id": "f743e39f",
   "metadata": {},
   "source": [
    "## Population and Sample\n",
    "\n",
    "The above introduces two concepts in sampling: [Population](https://en.wikipedia.org/wiki/Statistical_population), which is a set of items in relation to a question or an experiment; and [Sample](https://en.wikipedia.org/wiki/Sample_%28statistics%29), which is a set of individuals chosen to represent the population.\n",
    "\n",
    "Whether an entire population or samples should be used in a statistical analysis can be summarized as the following:\n",
    "\n",
    "Set | PROs | CONs\n",
    "--- | ---- | ----\n",
    "Population | All items accounted for; results more reliable | Taking longer time and expensive\n",
    "Samples | Quicker to conduct and cost effective | Partial items accounted for and causing bias\n"
   ]
  },
  {
   "cell_type": "code",
   "execution_count": null,
   "id": "0cee4d2b",
   "metadata": {},
   "outputs": [],
   "source": []
  }
 ],
 "metadata": {
  "kernelspec": {
   "display_name": "Python 3 (ipykernel)",
   "language": "python",
   "name": "python3"
  },
  "language_info": {
   "codemirror_mode": {
    "name": "ipython",
    "version": 3
   },
   "file_extension": ".py",
   "mimetype": "text/x-python",
   "name": "python",
   "nbconvert_exporter": "python",
   "pygments_lexer": "ipython3",
   "version": "3.9.5"
  }
 },
 "nbformat": 4,
 "nbformat_minor": 5
}
