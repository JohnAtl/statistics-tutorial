{
 "cells": [
  {
   "cell_type": "markdown",
   "id": "49e989f2",
   "metadata": {},
   "source": [
    "# Statistics Tutorial - Lesson 3\n",
    "## Standard Deviation and Variance\n",
    "\n",
    "Standard Deviation and Variance, in addition to Interquartile Range, are measures of [statistical dispersion](https://en.wikipedia.org/wiki/Statistical_dispersion), which is variability or spread of the data."
   ]
  },
  {
   "cell_type": "markdown",
   "id": "7cf7974e",
   "metadata": {},
   "source": [
    "## Standard Deviation\n",
    "\n",
    "[Standard Deviation](https://en.wikipedia.org/wiki/Standard_deviation) is calculated as the square root of the average of the square of the difference between each value and the data's mean, i.e.\n",
    "$$\\sigma = \\sqrt{\\frac{1}{N}\\sum_{i=i}^{N}(x_i - \\mu)^{2}}$$\n",
    "\n",
    "A low standard deviation indicates that the data tend to be close to the mean of the set, while a high standard deviation indicates that the data are spread out over a wider range. "
   ]
  },
  {
   "cell_type": "code",
   "execution_count": 1,
   "id": "e655905d",
   "metadata": {},
   "outputs": [
    {
     "name": "stdout",
     "output_type": "stream",
     "text": [
      "Standard Deviation is 14.73\n"
     ]
    }
   ],
   "source": [
    "# Example 1\n",
    "import math\n",
    "\n",
    "def get_mean(given_list):\n",
    "    \"\"\"\n",
    "    Function for calculating arithmetic mean\n",
    "    \"\"\"\n",
    "    return sum(given_list)/len(given_list)\n",
    "\n",
    "def get_sd(given_list):\n",
    "    \"\"\"\n",
    "    Function for calculating standard deviation\n",
    "    \"\"\"\n",
    "    mean = get_mean(given_list)\n",
    "    return math.sqrt(get_mean([math.pow(x - mean, 2) for x in given_list]))\n",
    "\n",
    "stock_prices = [505, 492, 509, 522, 538, 528, 527]\n",
    "sd = get_sd(stock_prices)\n",
    "print('Standard Deviation is {:.2f}'.format(sd))"
   ]
  },
  {
   "cell_type": "code",
   "execution_count": 2,
   "id": "16d3a042",
   "metadata": {
    "scrolled": true
   },
   "outputs": [
    {
     "name": "stdout",
     "output_type": "stream",
     "text": [
      "Standard Deviation is 14.73\n"
     ]
    }
   ],
   "source": [
    "# Example 2\n",
    "# by built-in library\n",
    "from statistics import pstdev\n",
    "sd = pstdev(stock_prices)\n",
    "print('Standard Deviation is {:.2f}'.format(sd))"
   ]
  },
  {
   "cell_type": "code",
   "execution_count": 3,
   "id": "d6beda28",
   "metadata": {},
   "outputs": [
    {
     "name": "stdout",
     "output_type": "stream",
     "text": [
      "Standard Deviation is 14.73\n"
     ]
    }
   ],
   "source": [
    "# Example 3\n",
    "# by NumPy\n",
    "import numpy as np\n",
    "stock_price_array = np.array(stock_prices)\n",
    "sd = np.std(stock_price_array)\n",
    "print('Standard Deviation is {:.2f}'.format(sd))"
   ]
  },
  {
   "cell_type": "markdown",
   "id": "2fc7b22f",
   "metadata": {},
   "source": [
    "## Variance\n",
    "\n",
    "[Variance](https://en.wikipedia.org/wiki/Variance) is calculated as the average of the square of the difference between each value and the data's mean, i.e.\n",
    "$$Var(X) = \\frac{1}{N}\\sum_{i=i}^{N}(x_i - \\mu)^{2}$$\n",
    "\n",
    "The formula apparently shows that variance is just the square of standard deviation. Standard deviation is widely used in practical statistics compared to variance because stadard deviation's unit remains the same as the elements' unit."
   ]
  },
  {
   "cell_type": "code",
   "execution_count": 4,
   "id": "10fa0e1a",
   "metadata": {},
   "outputs": [
    {
     "name": "stdout",
     "output_type": "stream",
     "text": [
      "Variance is 217.06\n"
     ]
    }
   ],
   "source": [
    "# Example 1\n",
    "def get_var(given_list):\n",
    "    \"\"\"\n",
    "    Function for calculating variance\n",
    "    \"\"\"\n",
    "    mean = get_mean(given_list)\n",
    "    return get_mean([math.pow(x - mean, 2) for x in given_list])\n",
    "\n",
    "var = get_var(stock_prices)\n",
    "print('Variance is {:.2f}'.format(var))"
   ]
  },
  {
   "cell_type": "code",
   "execution_count": 5,
   "id": "1e9cc567",
   "metadata": {},
   "outputs": [
    {
     "name": "stdout",
     "output_type": "stream",
     "text": [
      "Standard Deviation is 217.06\n"
     ]
    }
   ],
   "source": [
    "# Example 2\n",
    "# by built-in library\n",
    "from statistics import pvariance\n",
    "var = pvariance(stock_prices)\n",
    "print('Standard Deviation is {:.2f}'.format(var))"
   ]
  },
  {
   "cell_type": "code",
   "execution_count": 6,
   "id": "80ce0b3b",
   "metadata": {},
   "outputs": [
    {
     "name": "stdout",
     "output_type": "stream",
     "text": [
      "Standard Deviation is 217.06\n"
     ]
    }
   ],
   "source": [
    "# Example 3\n",
    "# by NumPy\n",
    "stock_price_array = np.array(stock_prices)\n",
    "var = np.var(stock_price_array)\n",
    "print('Standard Deviation is {:.2f}'.format(var))"
   ]
  },
  {
   "cell_type": "markdown",
   "id": "552d30b2",
   "metadata": {},
   "source": [
    "An advantage of variance as a measure of dispersion is that it is more amenable to algebraic manipulation than other measures of dispersion. There are examples as the following."
   ]
  },
  {
   "cell_type": "markdown",
   "id": "055db926",
   "metadata": {},
   "source": [
    "Example 1: The variance of X is equal to the mean of the square of X minus the square of the mean of X, i.e.\n",
    "    \n",
    "$$Var(X) = E[(X - E[X])^{2}] = E[X^{2}] - E[X]^{2}$$    "
   ]
  },
  {
   "cell_type": "code",
   "execution_count": 7,
   "id": "8561fa1b",
   "metadata": {},
   "outputs": [
    {
     "name": "stdout",
     "output_type": "stream",
     "text": [
      "Difference between two values is 0.00\n"
     ]
    }
   ],
   "source": [
    "# Prove Example 1 by built-in library\n",
    "from statistics import mean, pvariance\n",
    "\n",
    "def get_var_method2(given_list):\n",
    "    \"\"\"\n",
    "    Function for calculating variance (Method 2)\n",
    "    \"\"\"\n",
    "    return mean([x**2 for x in given_list]) - mean(given_list)**2\n",
    "var_1 = pvariance(stock_prices)\n",
    "var_2 = get_var_method2(stock_prices)\n",
    "print('Difference between two values is {:.2f}'.format(var_1 - var_2))"
   ]
  },
  {
   "cell_type": "markdown",
   "id": "748caa19",
   "metadata": {},
   "source": [
    "Example 2: The variance of a set of n values can be equivalently expressed, without directly referring to the mean, in terms of squared deviations of all points from each other:\n",
    "$$Var(X) = \\frac{1}{n^{2}}\\sum_{i=1}^{}\\sum_{j>i}^{}(x_i - x_j)^{2}$$"
   ]
  },
  {
   "cell_type": "code",
   "execution_count": 8,
   "id": "740d3b1d",
   "metadata": {},
   "outputs": [
    {
     "name": "stdout",
     "output_type": "stream",
     "text": [
      "Difference between two values is 0.00\n"
     ]
    }
   ],
   "source": [
    "# Prove Example 2 by built-in library\n",
    "from statistics import mean, pvariance\n",
    "\n",
    "def get_var_method3(given_list):\n",
    "    \"\"\"\n",
    "    Function for calculating variance (Method 3)\n",
    "    \"\"\"\n",
    "    n = len(given_list)\n",
    "    temp_sum = 0\n",
    "    for i in range(0, n):\n",
    "        for j in range(i+1, n):\n",
    "            temp_sum += (given_list[i] - given_list[j])**2\n",
    "    return temp_sum / n**2\n",
    "\n",
    "var_3 = get_var_method3(stock_prices)\n",
    "print('Difference between two values is {:.2f}'.format(var_1 - var_3))"
   ]
  },
  {
   "cell_type": "markdown",
   "id": "c2ad985e",
   "metadata": {},
   "source": [
    "## Bessel's correction\n",
    "\n",
    "[Bessel's correction](https://en.wikipedia.org/wiki/Bessel%27s_correction) is the use of (n − 1) instead of n in the formula for the sample variance and sample standard deviation. This is an approach to reduce the bias due to finite sample size. \n",
    "\n",
    "Therefore, the sample variance (unbiased) is calculated as\n",
    "$$s^{2} = \\frac{1}{n-1}\\sum_{i=i}^{n}(x_i - \\overline{x})^{2}$$\n",
    "\n",
    "It is also known that a biased sample variance (calculated as population variance) is multiplied by the factor n/(n-1) to get an unbiased sample variance, i.e. \n",
    "$$s_u^{2} = (\\frac{n}{n-1})s_b^{2}$$"
   ]
  },
  {
   "cell_type": "code",
   "execution_count": 9,
   "id": "81ee3757",
   "metadata": {},
   "outputs": [
    {
     "name": "stdout",
     "output_type": "stream",
     "text": [
      "Sample variance is 253.24\n",
      "Sample standard deviation is 15.91\n"
     ]
    }
   ],
   "source": [
    "# Example 1\n",
    "import math\n",
    "\n",
    "def get_sample_var(given_list):\n",
    "    \"\"\"\n",
    "    Function for calculating sample variance\n",
    "    \"\"\"\n",
    "    mean = get_mean(given_list)\n",
    "    n = len(given_list)\n",
    "    return sum([math.pow(x - mean, 2) for x in given_list]) / (n-1)\n",
    "\n",
    "sample_var = get_sample_var(stock_prices)\n",
    "sample_sd = math.sqrt(sample_var)\n",
    "print('Sample variance is {:.2f}'.format(sample_var))\n",
    "print('Sample standard deviation is {:.2f}'.format(sample_sd))"
   ]
  },
  {
   "cell_type": "code",
   "execution_count": 10,
   "id": "69faac33",
   "metadata": {},
   "outputs": [
    {
     "name": "stdout",
     "output_type": "stream",
     "text": [
      "Sample variance is 253.24\n",
      "Sample standard deviation is 15.91\n"
     ]
    }
   ],
   "source": [
    "# Example 2\n",
    "# by built-in library\n",
    "from statistics import variance, stdev\n",
    "sample_var = variance(stock_prices)\n",
    "sample_sd = stdev(stock_prices)\n",
    "print('Sample variance is {:.2f}'.format(sample_var))\n",
    "print('Sample standard deviation is {:.2f}'.format(sample_sd))"
   ]
  },
  {
   "cell_type": "code",
   "execution_count": 11,
   "id": "e488ba09",
   "metadata": {},
   "outputs": [
    {
     "name": "stdout",
     "output_type": "stream",
     "text": [
      "Sample variance is 253.24\n",
      "Sample standard deviation is 15.91\n"
     ]
    }
   ],
   "source": [
    "# Example 3\n",
    "# by NumPy\n",
    "sample_var = np.var(stock_price_array, ddof=1)\n",
    "sample_sd = np.std(stock_price_array, ddof=1)\n",
    "print('Sample variance is {:.2f}'.format(sample_var))\n",
    "print('Sample standard deviation is {:.2f}'.format(sample_sd))"
   ]
  },
  {
   "cell_type": "code",
   "execution_count": null,
   "id": "edc87cb4",
   "metadata": {},
   "outputs": [],
   "source": []
  }
 ],
 "metadata": {
  "kernelspec": {
   "display_name": "Python 3 (ipykernel)",
   "language": "python",
   "name": "python3"
  },
  "language_info": {
   "codemirror_mode": {
    "name": "ipython",
    "version": 3
   },
   "file_extension": ".py",
   "mimetype": "text/x-python",
   "name": "python",
   "nbconvert_exporter": "python",
   "pygments_lexer": "ipython3",
   "version": "3.9.7"
  }
 },
 "nbformat": 4,
 "nbformat_minor": 5
}
