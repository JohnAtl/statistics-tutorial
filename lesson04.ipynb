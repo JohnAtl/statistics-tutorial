{
 "cells": [
  {
   "cell_type": "markdown",
   "id": "6650b09f",
   "metadata": {},
   "source": [
    "# Statistics Tutorial - Lesson 4\n",
    "# Covariance and Correlation Coefficient\n",
    "\n",
    "Covariance and Correlation Coefficient are measures of correlation or joint variability of two data sets."
   ]
  },
  {
   "cell_type": "markdown",
   "id": "48e0148d",
   "metadata": {},
   "source": [
    "## Covariance\n",
    "\n",
    "[Covariance](https://en.wikipedia.org/wiki/Covariance) is defined as the average of products of each data set's difference with its own mean, i.e.\n",
    "$$ cov(X, Y) = E[(X - \\overline{X})(Y - \\overline{Y})] $$\n",
    "\n",
    "When two data sets have the same tendency, the covariance is positive; When two data sets have the opposite tendency, the covariance is negative. However, the magnitude of the covariance is not easy to interpret because it is not normalized and hence depends on the magnitudes of the variables. \n",
    "\n",
    "Covariance can be also be derived as the difference between the mean of two data sets' product and the product of two data sets' means, i.e.\n",
    "$$ cov(X, Y) = E[XY] - E[X]E[Y] $$\n",
    "\n",
    "The formula can also be equivalently expressed without using mean:\n",
    "$$ cov(X, Y) = \\frac{1}{n^{2}}\\sum_{i=1}^{}\\sum_{j>i}^{}(x_i - x_j)(y_i - y_j) $$"
   ]
  },
  {
   "cell_type": "code",
   "execution_count": 1,
   "id": "dc88c0f0",
   "metadata": {},
   "outputs": [
    {
     "name": "stdout",
     "output_type": "stream",
     "text": [
      "Covariance (Method 1): 16.66\n",
      "Covariance (Method 2): 16.66\n",
      "Covariance (Method 3): 16.66\n"
     ]
    }
   ],
   "source": [
    "# Example 1\n",
    "def get_mean(given_list):\n",
    "    \"\"\"\n",
    "    Function for calculating arithmetic mean\n",
    "    \"\"\"\n",
    "    return sum(given_list)/len(given_list)\n",
    "def get_cov_1(list1, list2):\n",
    "    \"\"\"\n",
    "    Function for calculating covariance (formula 1)\n",
    "    \"\"\"\n",
    "    mean1 = get_mean(list1)\n",
    "    mean2 = get_mean(list2)\n",
    "    return get_mean([(x - mean1) * (y - mean2) for (x, y) in zip(list1, list2)])\n",
    "def get_cov_2(list1, list2):\n",
    "    \"\"\"\n",
    "    Function for calculating covariance (formula 2)\n",
    "    \"\"\"\n",
    "    part1 = get_mean([x * y for (x, y) in zip(list1, list2)])\n",
    "    part2 = get_mean(list1) * get_mean(list2)\n",
    "    return part1 - part2\n",
    "def get_cov_3(list1, list2):\n",
    "    \"\"\"\n",
    "    Function for calculating covariance (formula 3)\n",
    "    \"\"\"\n",
    "    n = len(list1)\n",
    "    temp_sum = 0\n",
    "    for i in range(0, n):\n",
    "        for j in range(i+1, n):\n",
    "            temp_sum += (list1[i] - list1[j])*(list2[i] - list2[j])\n",
    "    return temp_sum / n**2\n",
    "\n",
    "price1 = [492, 509, 522, 538, 528, 527, 543]\n",
    "price2 = [51.25, 52.3, 52.35, 53.9, 52.65, 52.6, 55.1]\n",
    "\n",
    "cov1 = get_cov_1(price1, price2)\n",
    "cov2 = get_cov_2(price1, price2)\n",
    "cov3 = get_cov_3(price1, price2)\n",
    "print('Covariance (Method 1): {:.2f}'.format(cov1))\n",
    "print('Covariance (Method 2): {:.2f}'.format(cov2))\n",
    "print('Covariance (Method 3): {:.2f}'.format(cov3))"
   ]
  },
  {
   "cell_type": "code",
   "execution_count": 2,
   "id": "a42790e8",
   "metadata": {},
   "outputs": [
    {
     "name": "stdout",
     "output_type": "stream",
     "text": [
      "Covariance: 16.66\n"
     ]
    }
   ],
   "source": [
    "# Example 2\n",
    "# by NumPy\n",
    "import numpy as np\n",
    "price1_array = np.array(price1)\n",
    "price2_array = np.array(price2)\n",
    "cov = np.cov(price1_array, price2_array, bias=True)\n",
    "print('Covariance: {:.2f}'.format(float(cov[0][1])))"
   ]
  },
  {
   "cell_type": "markdown",
   "id": "d47c0d76",
   "metadata": {},
   "source": [
    "## Correlation Coefficient\n",
    "\n",
    "[Correlation Coefficient](https://en.wikipedia.org/wiki/Pearson_correlation_coefficient) is a ratio between the covariance of two data sets and the product of their standard deviations. As the measure is normalized, the value is always between -1 and 1. The calculation is defined as:\n",
    "$$ \\rho_{x,y} = \\frac{cov(X, Y)}{\\sigma_x \\sigma_y} $$\n",
    "\n",
    "When two data sets have the same tendency, the correlation coefficient tends to 1; When two data sets have the opposite tendency, the value tends to -1."
   ]
  },
  {
   "cell_type": "code",
   "execution_count": 3,
   "id": "2f970416",
   "metadata": {},
   "outputs": [],
   "source": [
    "# Prepare another data set with opposite tendency\n",
    "price3 = [0.45, 0.44, 0.43, 0.42, 0.44, 0.43, 0.40]\n",
    "price3_array = np.array(price3)"
   ]
  },
  {
   "cell_type": "code",
   "execution_count": 4,
   "id": "cbb8b46a",
   "metadata": {
    "scrolled": true
   },
   "outputs": [
    {
     "name": "stdout",
     "output_type": "stream",
     "text": [
      "Correlation Coefficient (#1): 0.89\n",
      "Correlation Coefficient (#2): -0.85\n"
     ]
    }
   ],
   "source": [
    "# Example 1\n",
    "import math\n",
    "\n",
    "def get_sd(given_list):\n",
    "    \"\"\"\n",
    "    Function for calculating standard deviation\n",
    "    \"\"\"\n",
    "    mean = get_mean(given_list)\n",
    "    return math.sqrt(get_mean([math.pow(x - mean, 2) for x in given_list]))\n",
    "def get_corr(list1, list2):\n",
    "    \"\"\"\n",
    "    Function for calculating correlation coefficient\n",
    "    \"\"\"\n",
    "    return get_cov_1(list1, list2) / (get_sd(list1) * get_sd(list2))\n",
    "\n",
    "corr1 = get_corr(price1, price2)\n",
    "corr2 = get_corr(price1, price3)\n",
    "print('Correlation Coefficient (#1): {:.2f}'.format(corr1))\n",
    "print('Correlation Coefficient (#2): {:.2f}'.format(corr2))"
   ]
  },
  {
   "cell_type": "code",
   "execution_count": 5,
   "id": "24b7305f",
   "metadata": {},
   "outputs": [
    {
     "name": "stdout",
     "output_type": "stream",
     "text": [
      "Correlation Coefficient (#1): 0.89\n",
      "Correlation Coefficient (#2): -0.85\n"
     ]
    }
   ],
   "source": [
    "# Example 2\n",
    "# by NumPy\n",
    "corr1 = np.corrcoef(price1_array, price2_array)\n",
    "corr2 = np.corrcoef(price1_array, price3_array)\n",
    "print('Correlation Coefficient (#1): {:.2f}'.format(float(corr1[0][1])))\n",
    "print('Correlation Coefficient (#2): {:.2f}'.format(float(corr2[0][1])))"
   ]
  },
  {
   "cell_type": "code",
   "execution_count": null,
   "id": "4ce5f75c",
   "metadata": {},
   "outputs": [],
   "source": []
  }
 ],
 "metadata": {
  "kernelspec": {
   "display_name": "Python 3 (ipykernel)",
   "language": "python",
   "name": "python3"
  },
  "language_info": {
   "codemirror_mode": {
    "name": "ipython",
    "version": 3
   },
   "file_extension": ".py",
   "mimetype": "text/x-python",
   "name": "python",
   "nbconvert_exporter": "python",
   "pygments_lexer": "ipython3",
   "version": "3.9.7"
  }
 },
 "nbformat": 4,
 "nbformat_minor": 5
}
