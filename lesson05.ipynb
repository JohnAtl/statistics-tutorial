{
 "cells": [
  {
   "cell_type": "markdown",
   "id": "17d9bdcc",
   "metadata": {},
   "source": [
    "# Statistics Tutorial - Lesson 5\n",
    "# Linear Regression\n",
    "\n",
    "[Linear Regression](https://en.wikipedia.org/wiki/Linear_regression) is a linear approach for modelling the relationship between a scalar response and one or more explanatory variables."
   ]
  },
  {
   "cell_type": "markdown",
   "id": "1956bdbd",
   "metadata": {},
   "source": [
    "In statistics, we are interested in searching relationships amongst variables so that we can understand how several variables are related as well as we can forcast a response. Sometimes outliers, where are not unexpected in the dataset or is way too far from the expected range, can be identified. This process is called [Regression Analysis](https://en.wikipedia.org/wiki/Regression_analysis). \n",
    "\n",
    "If there is only one explanatory variable in a linear modelling approach, i.e.\n",
    "$$ y = mx + c$$\n",
    "\n",
    ", it is called [Simple Linear Regression](https://en.wikipedia.org/wiki/Simple_linear_regression); for more than one, the process is called Multiple Linear Regression."
   ]
  },
  {
   "cell_type": "markdown",
   "id": "5121d24f",
   "metadata": {},
   "source": [
    "Here is a technique to solve Simple Linear Regression is called [Least Square Method](https://en.wikipedia.org/wiki/Linear_least_squares). The procedure is the following:\n",
    "1. Find means and standard deviation values of x and y data, as well as their correlation coefficient value.\n",
    "2. Find the slope *m* of the best fitting line by \n",
    "$$ m = \\rho_{x,y}(\\frac{\\sigma_y}{\\sigma_x}) $$\n",
    "3. Find the y-intercept *c* of the line by\n",
    "$$ c = \\overline{y} - m\\overline{x} $$"
   ]
  },
  {
   "cell_type": "code",
   "execution_count": 1,
   "id": "1e32b0d7",
   "metadata": {},
   "outputs": [
    {
     "name": "stdout",
     "output_type": "stream",
     "text": [
      "Line: y = 7.32 * x + 485.38\n"
     ]
    }
   ],
   "source": [
    "# Example 1\n",
    "import math\n",
    "\n",
    "def get_mean(given_list):\n",
    "    \"\"\"\n",
    "    Function for calculating arithmetic mean\n",
    "    \"\"\"\n",
    "    return sum(given_list)/len(given_list)\n",
    "def get_sd(given_list):\n",
    "    \"\"\"\n",
    "    Function for calculating standard deviation\n",
    "    \"\"\"\n",
    "    mean = get_mean(given_list)\n",
    "    return math.sqrt(get_mean([math.pow(x - mean, 2) for x in given_list]))\n",
    "def get_cov_1(list1, list2):\n",
    "    \"\"\"\n",
    "    Function for calculating covariance (formula 1)\n",
    "    \"\"\"\n",
    "    mean1 = get_mean(list1)\n",
    "    mean2 = get_mean(list2)\n",
    "    return get_mean([(x - mean1) * (y - mean2) for (x, y) in zip(list1, list2)])\n",
    "def get_corr(list1, list2):\n",
    "    \"\"\"\n",
    "    Function for calculating correlation coefficient\n",
    "    \"\"\"\n",
    "    return get_cov_1(list1, list2) / (get_sd(list1) * get_sd(list2))\n",
    "\n",
    "# Source Data\n",
    "stock_prices = [487, 487, 492, 509, 522, 538, 528, 527, 543, 550]\n",
    "time_index = range(len(stock_prices))\n",
    "\n",
    "# Step 1\n",
    "mean_x = get_mean(time_index)\n",
    "mean_y = get_mean(stock_prices)\n",
    "std_x = get_sd(time_index)\n",
    "std_y = get_sd(stock_prices)\n",
    "corr = get_corr(time_index, stock_prices)\n",
    "\n",
    "# Step 2\n",
    "m = corr * (std_y / std_x)\n",
    "\n",
    "# Step 3\n",
    "c = mean_y - m * mean_x\n",
    "\n",
    "print('Line: y = {m:.2f} * x + {c:.2f}'.format(m=m, c=c))"
   ]
  },
  {
   "cell_type": "code",
   "execution_count": 2,
   "id": "5746c459",
   "metadata": {},
   "outputs": [
    {
     "name": "stdout",
     "output_type": "stream",
     "text": [
      "Line: y = 7.32 * x + 485.38\n"
     ]
    }
   ],
   "source": [
    "# Example 2\n",
    "# by NumPy\n",
    "import numpy as np\n",
    "\n",
    "x_array = np.array(time_index)\n",
    "y_array = np.array(stock_prices)\n",
    "A = np.vstack([x_array, np.ones(len(x_array))]).T\n",
    "# using Y = Ap, where A = [[x 1]] and p = [[m], [c]]\n",
    "m, c = np.linalg.lstsq(A, y_array, rcond=None)[0]\n",
    "\n",
    "print('Line: y = {m:.2f} * x + {c:.2f}'.format(m=m, c=c))"
   ]
  },
  {
   "cell_type": "markdown",
   "id": "e0e54b02",
   "metadata": {},
   "source": [
    "After calculating m and c, you can draw the best fitting line by Linear Equation."
   ]
  },
  {
   "cell_type": "code",
   "execution_count": 3,
   "id": "d58a855c",
   "metadata": {},
   "outputs": [
    {
     "data": {
      "image/png": "[encoded data removed]",
      "text/plain": [
       "<Figure size 432x288 with 1 Axes>"
      ]
     },
     "metadata": {
      "needs_background": "light"
     },
     "output_type": "display_data"
    }
   ],
   "source": [
    "import matplotlib.pyplot as plt\n",
    "\n",
    "# plot actual\n",
    "plt.scatter(time_index, stock_prices, c='r', label='actual')\n",
    "\n",
    "# plot predict\n",
    "x_func = np.linspace(0, int(len(x_array) *1.2))\n",
    "y_func = m * x_func + c\n",
    "plt.plot(x_func, y_func, label='$f(x) = {m:.2f} * x + {c:.2f}$'.format(m=m, c=c))\n",
    "\n",
    "plt.xlabel('time')\n",
    "plt.ylabel('price')\n",
    "plt.title('Stock Price Predict vs Actual')\n",
    "plt.legend()\n",
    "plt.show()"
   ]
  },
  {
   "cell_type": "code",
   "execution_count": null,
   "id": "2565f144",
   "metadata": {},
   "outputs": [],
   "source": []
  }
 ],
 "metadata": {
  "kernelspec": {
   "display_name": "Python 3 (ipykernel)",
   "language": "python",
   "name": "python3"
  },
  "language_info": {
   "codemirror_mode": {
    "name": "ipython",
    "version": 3
   },
   "file_extension": ".py",
   "mimetype": "text/x-python",
   "name": "python",
   "nbconvert_exporter": "python",
   "pygments_lexer": "ipython3",
   "version": "3.9.7"
  }
 },
 "nbformat": 4,
 "nbformat_minor": 5
}
