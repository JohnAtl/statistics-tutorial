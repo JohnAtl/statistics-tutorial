{
 "cells": [
  {
   "cell_type": "markdown",
   "id": "17d9bdcc",
   "metadata": {},
   "source": [
    "# Statistics Tutorial - Lesson 5\n",
    "# Linear Regression\n",
    "\n",
    "[Linear Regression](https://en.wikipedia.org/wiki/Linear_regression) is a linear approach for modelling the relationship between a scalar response and one or more explanatory variables."
   ]
  },
  {
   "cell_type": "markdown",
   "id": "1956bdbd",
   "metadata": {},
   "source": [
    "In statistics, we are interested in searching relationships amongst variables so that we can understand how several variables are related as well as we can forcast a response. Sometimes outliers, where are not unexpected in the dataset or is way too far from the expected range, can be identified. This process is called [Regression Analysis](https://en.wikipedia.org/wiki/Regression_analysis). \n",
    "\n",
    "If there is only one explanatory variable in a linear modelling approach, i.e.\n",
    "$$ y = mx + c$$\n",
    "\n",
    ", it is called [Simple Linear Regression](https://en.wikipedia.org/wiki/Simple_linear_regression); for more than one, the process is called Multiple Linear Regression."
   ]
  },
  {
   "cell_type": "markdown",
   "id": "5121d24f",
   "metadata": {},
   "source": [
    "## Simple Linear Regression\n",
    "\n",
    "Here is a technique to solve Simple Linear Regression is called [Least Square Method](https://en.wikipedia.org/wiki/Linear_least_squares). The procedure is the following:\n",
    "1. Find means and standard deviation values of x and y data, as well as their correlation coefficient value.\n",
    "2. Find the slope *m* of the best fitting line by \n",
    "$$ m = \\rho_{x,y}(\\frac{\\sigma_y}{\\sigma_x}) $$\n",
    "3. Find the y-intercept *c* of the line by\n",
    "$$ c = \\overline{y} - m\\overline{x} $$"
   ]
  },
  {
   "cell_type": "code",
   "execution_count": 3,
   "id": "5746c459",
   "metadata": {},
   "outputs": [
    {
     "name": "stdout",
     "output_type": "stream",
     "text": [
      "Line: y = 7.32 * x + 485.38\n"
     ]
    }
   ],
   "source": [
    "import numpy as np\n",
    "\n",
    "# Source Data\n",
    "resp_times = [487, 487, 492, 509, 522, 538, 528, 527, 543, 550]\n",
    "time_index = range(len(resp_times))\n",
    "    \n",
    "x_array = np.array(time_index)\n",
    "y_array = np.array(resp_times)\n",
    "A = np.vstack([x_array, np.ones(len(x_array))]).T\n",
    "# using Y = Ap, where A = [[x 1]] and p = [[m], [c]]\n",
    "m, c = np.linalg.lstsq(A, y_array, rcond=None)[0]\n",
    "\n",
    "print('Line: y = {m:.2f} * x + {c:.2f}'.format(m=m, c=c))"
   ]
  },
  {
   "cell_type": "markdown",
   "id": "e0e54b02",
   "metadata": {},
   "source": [
    "After calculating m and c, you can draw the best fitting line by Linear Equation."
   ]
  },
  {
   "cell_type": "code",
   "execution_count": 4,
   "id": "d58a855c",
   "metadata": {},
   "outputs": [
    {
     "data": {
      "image/png": "[encoded data removed]",
      "text/plain": [
       "<Figure size 432x288 with 1 Axes>"
      ]
     },
     "metadata": {
      "needs_background": "light"
     },
     "output_type": "display_data"
    }
   ],
   "source": [
    "import matplotlib.pyplot as plt\n",
    "\n",
    "# plot actual\n",
    "plt.scatter(time_index, stock_prices, c='r', label='actual')\n",
    "\n",
    "# plot predict\n",
    "x_func = np.linspace(0, int(len(x_array) *1.2))\n",
    "y_func = m * x_func + c\n",
    "plt.plot(x_func, y_func, label='$f(x) = {m:.2f} * x + {c:.2f}$'.format(m=m, c=c))\n",
    "\n",
    "plt.xlabel('trial')\n",
    "plt.ylabel('response time')\n",
    "plt.title('Response Time vs Trial Number')\n",
    "plt.legend()\n",
    "plt.show()"
   ]
  },
  {
   "cell_type": "markdown",
   "id": "cd3c8616",
   "metadata": {},
   "source": [
    "## Multiple Linear Regression\n",
    "\n",
    "The above solves one random variable with $ y = mx + c $. If there are multiple random variables on which y has linear dependency, it can be expressed as\n",
    "$$ \\widehat{Y} = \\beta{}_{0} + \\beta{}_{1}\\cdot X_{1} + \\beta{}_{2}\\cdot X_{2} + \\cdots + \\beta{}_{m} \\cdot X_{m} $$\n",
    "\n",
    "The above could be considered as a Matrix problem: $ Y = X \\cdot B $ where\n",
    "$$\n",
    "X = \\left[\\begin{array}{cc} 1 & x_{1,1} & x_{2,1} & \\cdots & x_{m,1} \\\\ 1 & x_{1,2} & x_{2,2} & \\cdots & x_{m,2} \\\\ \\cdots & \\cdots & \\cdots & \\cdots & \\cdots \\\\ 1 & x_{1,n} & x_{2,n} & \\cdots & x_{m,n} \\end{array}\\right]\n",
    "$$\n",
    "\n",
    "$$\n",
    "B = \\left[\\begin{array}{cc} \\beta{}_{0} \\\\ \\beta{}_{1} \\\\ \\beta{}_{2} \\\\ \\cdots \\\\ \\beta{}_{m} \\end{array}\\right]\n",
    "$$\n",
    "\n",
    "$$\n",
    "Y = \\left[\\begin{array}{cc} y_{1} \\\\ y_{2} \\\\ \\cdots \\\\ y_{n} \\end{array}\\right]\n",
    "$$\n",
    "\n",
    "We can solve the matrix equation to get B by\n",
    "$$\n",
    "B = (X^{T} \\cdot X)^{-1} \\cdot X^{T} \\cdot Y\n",
    "$$"
   ]
  },
  {
   "cell_type": "code",
   "execution_count": 8,
   "id": "3962020b",
   "metadata": {},
   "outputs": [
    {
     "name": "stdout",
     "output_type": "stream",
     "text": [
      "Y = 51.953 + 6.651 * X1 + -11.163 * X2\n"
     ]
    }
   ],
   "source": [
    "## Problem Data\n",
    "x_list = [[5, 7], [6, 6], [7, 4], [8, 5], [9, 6]]\n",
    "y_list = [10, 20, 60, 40, 50]\n",
    "\n",
    "# by Linear Regression in NumPy\n",
    "X_Matrix = np.array(x_list)\n",
    "Y_Matrix = np.array(y_list)\n",
    "A_Matrix = np.c_[np.ones(X_Matrix.shape[0]), X_Matrix]\n",
    "B_Matrix = np.linalg.lstsq(A_Matrix, Y_Matrix, rcond=None)[0]\n",
    "# Print result\n",
    "formula  = 'Y = ' + ' + '.join([ '{b:.3f} * X{i}'.format(b=b, i=idx) if idx > 0 else '{b:.3f}'.format(b=b) for idx, b in enumerate(B_Matrix)])\n",
    "print(formula)"
   ]
  }
 ],
 "metadata": {
  "kernelspec": {
   "display_name": "Python 3 (ipykernel)",
   "language": "python",
   "name": "python3"
  },
  "language_info": {
   "codemirror_mode": {
    "name": "ipython",
    "version": 3
   },
   "file_extension": ".py",
   "mimetype": "text/x-python",
   "name": "python",
   "nbconvert_exporter": "python",
   "pygments_lexer": "ipython3",
   "version": "3.9.12"
  }
 },
 "nbformat": 4,
 "nbformat_minor": 5
}
