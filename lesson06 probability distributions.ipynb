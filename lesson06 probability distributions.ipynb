{
 "cells": [
  {
   "cell_type": "markdown",
   "id": "afd5ebf9",
   "metadata": {},
   "source": [
    "# Statistics Tutorial - Lesson 6\n",
    "# Probability Distribution\n",
    "\n",
    "A [Probability Distribution](https://en.wikipedia.org/wiki/Probability_distribution) is a mathemtical function to describe all the possible values and likelihoods that a random variable can take within a given range.\n",
    "\n",
    "A probability distribution can be defined by its [Probability Density Function](https://en.wikipedia.org/wiki/Probability_density_function) (PDF). PDF is used to define the random variable's probability coming within a distinct range of values. On the other hands, a probability distribution can often be represented by a [Cumulative Distribution Function](https://en.wikipedia.org/wiki/Cumulative_distribution_function) (CDF). CDF accumulates all of the probability less than or equal to x, i.e.\n",
    "$$ CDF(x) = PDF(X \\le x) = \\sum_{i=min}^{x} PDF(i) $$\n",
    "\n",
    "There are various probability distributions such as \n",
    "- Normal Distribution. It is the most commonly used continuous distribution for linear growth such as errors, offsets, etc.\n",
    "- Binomial Distribution. For the number of \"positive occurrences\" given a fixed total number of independent occurrences.\n",
    "- Geometric Distribution. For binomial-type observations but where the quantity of interest is the number of failures before the first success.\n",
    "- Poisson distribution. For the number of occurrences of an event that occurs independently with a given rate in a given period of time."
   ]
  },
  {
   "cell_type": "code",
   "execution_count": 1,
   "id": "15c54b90",
   "metadata": {},
   "outputs": [
    {
     "name": "stdout",
     "output_type": "stream",
     "text": [
      "Mean=49.875, Standard Deviation=4.946\n"
     ]
    }
   ],
   "source": [
    "###\n",
    "# This example shows random variables to be represented by a histogram\n",
    "# , which visually demonstrate its estimated probability density function.\n",
    "###\n",
    "from matplotlib import pyplot\n",
    "from numpy.random import normal\n",
    "from numpy import mean\n",
    "from numpy import std\n",
    "from scipy.stats import norm\n",
    "from math import floor, ceil\n",
    "\n",
    "# generate a sample\n",
    "sample = normal(loc=50, scale=5, size=1000)\n",
    "\n",
    "# calculate parameters\n",
    "sample_mean = mean(sample)\n",
    "sample_std = std(sample)\n",
    "print('Mean={:.3f}, Standard Deviation={:.3f}'.format(sample_mean, sample_std))"
   ]
  },
  {
   "cell_type": "code",
   "execution_count": 2,
   "id": "7986af1c",
   "metadata": {},
   "outputs": [
    {
     "data": {
      "image/png": "[encoded data removed]",
      "text/plain": [
       "<Figure size 432x288 with 1 Axes>"
      ]
     },
     "metadata": {
      "needs_background": "light"
     },
     "output_type": "display_data"
    }
   ],
   "source": [
    "# define the distribution function\n",
    "dist = norm(sample_mean, sample_std)\n",
    "\n",
    "# sample probabilities for a range of outcomes\n",
    "values = [value for value in range(floor(min(sample)), ceil(max(sample)))]\n",
    "probabilities = [dist.pdf(value) for value in values]\n",
    "\n",
    "# plot the histogram and pdf\n",
    "pyplot.hist(sample, bins=10, density=True)\n",
    "pyplot.plot(values, probabilities, c='r')\n",
    "pyplot.show()"
   ]
  },
  {
   "cell_type": "markdown",
   "id": "3dccd808",
   "metadata": {},
   "source": [
    "## Normal Distribution\n",
    "\n",
    "[Normal Distrbution](https://en.wikipedia.org/wiki/Normal_distribution) or called Gaussian distribution is the most important in statistics. It is often used in the natural and social sciences to represent real-valued random variables whose distributions are not known. It is defined as:\n",
    "\n",
    "$$ PDF = \\mathcal{N}(\\mu, \\sigma^{2}) = \\frac{1}{\\sigma\\sqrt{2\\pi}}e^{-\\frac{(x-\\mu)^{2}}{2\\sigma^{2}}} $$\n",
    "\n",
    "$$ CDF = \\phi(x) = \\frac{1}{2}(1 + erf(\\frac{x-\\mu}{\\sigma\\sqrt{2}})) $$\n",
    "where erf is called [Error Function](https://en.wikipedia.org/wiki/Error_function), which is defined as \n",
    "\n",
    "$$ erf(z) = \\frac{2}{\\sqrt{\\pi}}\\int_{0}^{z}e^{-x^{2}}dx $$"
   ]
  },
  {
   "cell_type": "code",
   "execution_count": 6,
   "id": "b90298c6",
   "metadata": {},
   "outputs": [
    {
     "name": "stdout",
     "output_type": "stream",
     "text": [
      "Case 1: Probability(x=21) = 0.176\n",
      "Case 2: Probability(20 <= x <= 22) = 0.341\n"
     ]
    }
   ],
   "source": [
    "# Example 2\n",
    "# by SciPy\n",
    "from scipy.stats import norm\n",
    "\n",
    "x = 21\n",
    "x1 = 20\n",
    "x2 = 22\n",
    "nd_mean = 20\n",
    "nd_std = 2\n",
    "\n",
    "prb_case1 = norm.pdf(x, loc=nd_mean, scale=nd_std)\n",
    "prb_case2 = norm.cdf(x2, loc=nd_mean, scale=nd_std) - norm.cdf(x1, loc=nd_mean, scale=nd_std)\n",
    "# Print results\n",
    "print('Case 1: Probability(x={x}) = {p:.3f}'.format(x=x, p=prb_case1))\n",
    "print('Case 2: Probability({x1} <= x <= {x2}) = {p:.3f}'.format(x1=x1, x2=x2, p=prb_case2))"
   ]
  },
  {
   "cell_type": "markdown",
   "id": "1cf700cf",
   "metadata": {},
   "source": [
    "## Central Limit Theorem\n",
    "\n",
    "One of importances of Normal Distribution is [Central Limit Theorem](https://en.wikipedia.org/wiki/Central_limit_theorem) (CLT). It states that for a large enough samples, the distribution of the sample mean will approach normal distribution. This holds for a sample of independent random variables from any distribution with a finite standard deviation."
   ]
  },
  {
   "cell_type": "code",
   "execution_count": 7,
   "id": "dcdfda5b",
   "metadata": {},
   "outputs": [
    {
     "name": "stdout",
     "output_type": "stream",
     "text": [
      "P(484.320 <= x <= 515.680) = 0.95\n"
     ]
    }
   ],
   "source": [
    "# Example\n",
    "import math\n",
    "\n",
    "# We have a sample of 100 values from a population with mean = 500, standard deviation = 80\n",
    "# We are asked to calculate a lower bound L and an upper bound U when probability of X between L and U is 95%\n",
    "# where z-score is 1.96\n",
    "sample_size = 100\n",
    "mean = 500\n",
    "std = 80\n",
    "prob = 0.95\n",
    "z_score = 1.96\n",
    "\n",
    "# Calculation\n",
    "lower_bound = mean - (std/math.sqrt(sample_size)) * z_score\n",
    "upper_bound = mean + (std/math.sqrt(sample_size)) * z_score\n",
    "\n",
    "# Print result\n",
    "print('P({l:.3f} <= x <= {u:.3f}) = {p}'.format(l=lower_bound, u=upper_bound, p=prob))"
   ]
  },
  {
   "cell_type": "markdown",
   "id": "a3951e5e",
   "metadata": {},
   "source": [
    "## Binomial Distribution\n",
    "\n",
    "A [Binomial Distribution](https://en.wikipedia.org/wiki/Binomial_distribution) is a probability distribution of a binomal experiment, aka [Bernoulli Trial](https://en.wikipedia.org/wiki/Bernoulli_trial). The experiment is conducted with:\n",
    "- The experiment runs with n repeated trials.\n",
    "- Each trial is independent.\n",
    "- The outcome of each trial is boolean, i.e. either success or failure.\n",
    "- The number of successes is x.\n",
    "- The probability of success in each trial is p, thus that of failure is  (1-p).\n",
    "\n",
    "With the above, we can have the [Probability Mass Function](https://en.wikipedia.org/wiki/Probability_mass_function) (PMF) as\n",
    "$$ b(x, n, p) = \\binom{n}{x}p^{x}(1-p)^{n-x} $$\n",
    "\n",
    "and CDF as\n",
    "$$ b(x \\le k) = \\sum_{i=0}^{k}b(x=i, n, p) $$"
   ]
  },
  {
   "cell_type": "code",
   "execution_count": 8,
   "id": "6a7cd33e",
   "metadata": {},
   "outputs": [
    {
     "name": "stdout",
     "output_type": "stream",
     "text": [
      "Total Defect Rate in 10 tickets is 0.891\n"
     ]
    }
   ],
   "source": [
    "# Example 2\n",
    "# by SciPy\n",
    "from scipy.stats import binom\n",
    "\n",
    "ticket_count = 10\n",
    "defect_rate = 12/100.0\n",
    "defect_threshold = 2\n",
    "\n",
    "total_defect_rate = binom.cdf(defect_threshold, ticket_count, defect_rate)\n",
    "print('Total Defect Rate in {cnt} tickets is {cdf:.3f}'.format(cnt=ticket_count, cdf=total_defect_rate))"
   ]
  },
  {
   "cell_type": "markdown",
   "id": "2411fe0c",
   "metadata": {},
   "source": [
    "## Geometric Distribution\n",
    "\n",
    "A [Geometric Distribution](https://en.wikipedia.org/wiki/Geometric_distribution) is a probability distribution of a binomal experiment as well. The experiment is conducted with:\n",
    "- The experiment runs with n repeated trials.\n",
    "- Each trial is independent.\n",
    "- The outcome of each trial is boolean, i.e. either success or failure.\n",
    "- The probability of success in each trial is p, thus that of failure is (1-p).\n",
    "- The experiment continues until x successes are observed.\n",
    "\n",
    "Geometric Distribution's PMF is\n",
    "$$ g(x, p) = (1-p)^{(x-1)}(p) $$\n",
    "\n",
    "CDF is\n",
    "$$ P(X \\le x) = 1 - (1-p)^{x} $$"
   ]
  },
  {
   "cell_type": "code",
   "execution_count": 8,
   "id": "fe2fc790",
   "metadata": {},
   "outputs": [
    {
     "name": "stdout",
     "output_type": "stream",
     "text": [
      "Method 1: Rate of 1st defect in top 10 tickets is 0.721\n",
      "Method 2: Rate of 1st defect in top 10 tickets is 0.721\n"
     ]
    }
   ],
   "source": [
    "# Example 1\n",
    "# What is a probability of a programmer with 12% defect rate\n",
    "# having the 1st defects in the first 10 tickets?\n",
    "\n",
    "def get_gd_pmf(x, p):\n",
    "    \"\"\"\n",
    "    Calculate Geometric Distribution Probability Mass Function\n",
    "    \"\"\"    \n",
    "    return (1-p)**(x-1) * p\n",
    "\n",
    "def get_gd_cdf_1(x, p):\n",
    "    \"\"\"\n",
    "    Calculate Geometric Distribution Cumulative Distribution Function\n",
    "    (Method 1)\n",
    "    \"\"\"       \n",
    "    return sum([get_gd_pmf(i, p) for i in range(1, x+1, 1)])\n",
    "\n",
    "def get_gd_cdf_2(x, p):\n",
    "    \"\"\"\n",
    "    Calculate Geometric Distribution Cumulative Distribution Function\n",
    "    (Method 2)\n",
    "    \"\"\"       \n",
    "    return 1 - (1 - p)**x\n",
    "\n",
    "ticket_count = 10\n",
    "defect_rate = 12/100.0\n",
    "\n",
    "rate1 = get_gd_cdf_1(ticket_count, defect_rate)\n",
    "rate2 = get_gd_cdf_2(ticket_count, defect_rate)\n",
    "print('Method 1: Rate of 1st defect in top {cnt} tickets is {cdf:.3f}'.format(cnt=ticket_count, cdf=rate1))\n",
    "print('Method 2: Rate of 1st defect in top {cnt} tickets is {cdf:.3f}'.format(cnt=ticket_count, cdf=rate2))"
   ]
  },
  {
   "cell_type": "code",
   "execution_count": 9,
   "id": "5e667697",
   "metadata": {},
   "outputs": [
    {
     "name": "stdout",
     "output_type": "stream",
     "text": [
      "Method 1: Rate of 1st defect in top 10 tickets is 0.721\n",
      "Method 2: Rate of 1st defect in top 10 tickets is 0.721\n"
     ]
    }
   ],
   "source": [
    "# Example 2\n",
    "# by SciPy\n",
    "from scipy.stats import geom\n",
    "\n",
    "rate1 = geom.cdf(ticket_count, defect_rate)\n",
    "rate2 = geom.cdf(ticket_count, defect_rate)\n",
    "print('Method 1: Rate of 1st defect in top {cnt} tickets is {cdf:.3f}'.format(cnt=ticket_count, cdf=rate1))\n",
    "print('Method 2: Rate of 1st defect in top {cnt} tickets is {cdf:.3f}'.format(cnt=ticket_count, cdf=rate2))"
   ]
  },
  {
   "cell_type": "markdown",
   "id": "8e8359ec",
   "metadata": {},
   "source": [
    "## Poisson Distribution\n",
    "\n",
    "A [Poisson Distribution](https://en.wikipedia.org/wiki/Poisson_distribution) is a probability distribution of a poisson experiment where the probability of a given number of events occurr in a fixed interval of time or space if these events occur with a known constant mean rate and independently of the time since the last event.\n",
    "\n",
    "For example, a call centre receives 180 calls per hour in average. Each call is independent because receiving a call does not change the probability of when the next one will arrive. The number of calls received during any hour is in a Poisson probability distribution.\n",
    "\n",
    "Poisson Distribution's PMF is\n",
    "$$ P(k, l) = \\frac{l^{k}e^{-l}}{k!} $$\n",
    "where l is the average number of successes that occur in a specified region.\n",
    "k is is the actual number of successes that occur in a specified region.\n",
    "\n",
    "Poisson Distribution P(k, l) has the following properties:\n",
    "- mean is l\n",
    "- variance is l\n",
    "- $E[X^{2}]$ is $l + l^{2} $"
   ]
  },
  {
   "cell_type": "code",
   "execution_count": 10,
   "id": "f4e77f81",
   "metadata": {},
   "outputs": [
    {
     "name": "stdout",
     "output_type": "stream",
     "text": [
      "Probability of 4 calls per minute is 0.168\n"
     ]
    }
   ],
   "source": [
    "# Example 1\n",
    "# If a call centre receives 180 calls per hour in average,\n",
    "# what is the probability if it receives 240 calls per hour?\n",
    "from math import factorial, exp\n",
    "\n",
    "def get_poisson_pmf(k, lam):\n",
    "    return (lam**k * exp(-lam))/factorial(int(k))\n",
    "\n",
    "mean_calls = 180//60\n",
    "target_calls = 240//60\n",
    "prob = get_poisson_pmf(target_calls, mean_calls)\n",
    "print('Probability of {t} calls per minute is {p:.3f}'.format(t=target_calls, p=prob))"
   ]
  },
  {
   "cell_type": "code",
   "execution_count": 11,
   "id": "c00b87ce",
   "metadata": {},
   "outputs": [
    {
     "name": "stdout",
     "output_type": "stream",
     "text": [
      "Probability of 4 calls per minute is 0.168\n"
     ]
    }
   ],
   "source": [
    "# Example 2\n",
    "# by SciPy\n",
    "from scipy.stats import poisson\n",
    "prob = poisson.pmf(target_calls, mean_calls)\n",
    "print('Probability of {t} calls per minute is {p:.3f}'.format(t=target_calls, p=prob))"
   ]
  },
  {
   "cell_type": "code",
   "execution_count": null,
   "id": "e56f3f89",
   "metadata": {},
   "outputs": [],
   "source": []
  }
 ],
 "metadata": {
  "kernelspec": {
   "display_name": "Python 3 (ipykernel)",
   "language": "python",
   "name": "python3"
  },
  "language_info": {
   "codemirror_mode": {
    "name": "ipython",
    "version": 3
   },
   "file_extension": ".py",
   "mimetype": "text/x-python",
   "name": "python",
   "nbconvert_exporter": "python",
   "pygments_lexer": "ipython3",
   "version": "3.9.5"
  }
 },
 "nbformat": 4,
 "nbformat_minor": 5
}
