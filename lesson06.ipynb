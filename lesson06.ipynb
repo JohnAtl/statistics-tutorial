{
 "cells": [
  {
   "cell_type": "markdown",
   "id": "afd5ebf9",
   "metadata": {},
   "source": [
    "# Statistics Tutorial - Lesson 6\n",
    "# Probability Distribution\n",
    "\n",
    "A [Probability Distribution](https://en.wikipedia.org/wiki/Probability_distribution) is a mathemtical function to describe all the possible values and likelihoods that a random variable can take within a given range.\n",
    "\n",
    "A probability distribution can be defined by its [Probability Density Function](https://en.wikipedia.org/wiki/Probability_density_function) (PDF). PDF is used to define the random variable's probability coming within a distinct range of values. On the other hands, a probability distribution can often be represented by a [Cumulative Distribution Function](https://en.wikipedia.org/wiki/Cumulative_distribution_function) (CDF). CDF accumulates all of the probability less than or equal to x, i.e.\n",
    "$$ CDF(x) = PDF(X \\le x) = \\sum_{i=min}^{x} PDF(i) $$\n",
    "\n",
    "There are various probability distributions such as \n",
    "- Normal Distribution. It is the most commonly used continuous distribution for linear growth such as errors, offsets, etc.\n",
    "- Binomial Distribution. For the number of \"positive occurrences\" given a fixed total number of independent occurrences.\n",
    "- Geometric Distribution. For binomial-type observations but where the quantity of interest is the number of failures before the first success.\n",
    "- Poisson distribution. For the number of occurrences of an event that occurs independently with a given rate in a given period of time."
   ]
  },
  {
   "cell_type": "code",
   "execution_count": 1,
   "id": "15c54b90",
   "metadata": {},
   "outputs": [
    {
     "name": "stdout",
     "output_type": "stream",
     "text": [
      "Mean=49.949, Standard Deviation=4.863\n"
     ]
    }
   ],
   "source": [
    "###\n",
    "# This example shows random variables to be represented by a histogram\n",
    "# , which visually demonstrate its estimated probability density function.\n",
    "###\n",
    "from matplotlib import pyplot\n",
    "from numpy.random import normal\n",
    "from numpy import mean\n",
    "from numpy import std\n",
    "from scipy.stats import norm\n",
    "from math import floor, ceil\n",
    "\n",
    "# generate a sample\n",
    "sample = normal(loc=50, scale=5, size=1000)\n",
    "\n",
    "# calculate parameters\n",
    "sample_mean = mean(sample)\n",
    "sample_std = std(sample)\n",
    "print('Mean={:.3f}, Standard Deviation={:.3f}'.format(sample_mean, sample_std))"
   ]
  },
  {
   "cell_type": "code",
   "execution_count": 2,
   "id": "7986af1c",
   "metadata": {},
   "outputs": [
    {
     "data": {
      "image/png": "[encoded data removed]",
      "text/plain": [
       "<Figure size 432x288 with 1 Axes>"
      ]
     },
     "metadata": {
      "needs_background": "light"
     },
     "output_type": "display_data"
    }
   ],
   "source": [
    "# define the distribution function\n",
    "dist = norm(sample_mean, sample_std)\n",
    "\n",
    "# sample probabilities for a range of outcomes\n",
    "values = [value for value in range(floor(min(sample)), ceil(max(sample)))]\n",
    "probabilities = [dist.pdf(value) for value in values]\n",
    "\n",
    "# plot the histogram and pdf\n",
    "pyplot.hist(sample, bins=10, density=True)\n",
    "pyplot.plot(values, probabilities, c='r')\n",
    "pyplot.show()"
   ]
  },
  {
   "cell_type": "markdown",
   "id": "3dccd808",
   "metadata": {},
   "source": [
    "## Normal Distribution\n",
    "\n",
    "[Normal Distrbution](https://en.wikipedia.org/wiki/Normal_distribution) or called Gaussian distribution is the most important in statistics. It is often used in the natural and social sciences to represent real-valued random variables whose distributions are not known. It is defined as:\n",
    "\n",
    "$$ PDF = \\mathcal{N}(\\mu, \\sigma^{2}) = \\frac{1}{\\sigma\\sqrt{2\\pi}}e^{-\\frac{(x-\\mu)^{2}}{2\\sigma^{2}}} $$\n",
    "\n",
    "$$ CDF = \\phi(x) = \\frac{1}{2}(1 + erf(\\frac{x-\\mu}{\\sigma\\sqrt{2}})) $$\n",
    "where erf is called [Error Function](https://en.wikipedia.org/wiki/Error_function), which is defined as \n",
    "\n",
    "$$ erf(z) = \\frac{2}{\\sqrt{\\pi}}\\int_{0}^{z}e^{-x^{2}}dx $$"
   ]
  },
  {
   "cell_type": "code",
   "execution_count": 3,
   "id": "05413c7a",
   "metadata": {},
   "outputs": [
    {
     "name": "stdout",
     "output_type": "stream",
     "text": [
      "Case 1: Probability(x=21) = 0.176\n",
      "Case 2: Probability(20 <= x <= 22) = 0.341\n"
     ]
    }
   ],
   "source": [
    "# Example 1\n",
    "import math\n",
    "\n",
    "def get_nd_pdf(mean, std, x):\n",
    "    \"\"\"\n",
    "    Calculate Normal Distribution PDF\n",
    "    \"\"\"\n",
    "    return math.exp(-(((x-mean)**2)/(2 * std**2))) / (std * math.sqrt(2*math.pi))\n",
    "\n",
    "def get_nd_cdf(mean, std, x):\n",
    "    \"\"\"\n",
    "    Calculate Normal Distribution CDF\n",
    "    \"\"\"\n",
    "    return 0.5 * (1 + math.erf((x - mean) / (std * math.sqrt(2))))\n",
    "\n",
    "# Example:\n",
    "# There is a normal distribution with mean of 20 and standard deviation of 2\n",
    "nd_mean = 20\n",
    "nd_std = 2\n",
    "\n",
    "# Now we are checking x = 21\n",
    "# then calculate a probability when x = 21\n",
    "x = 21\n",
    "prb_case1 = get_nd_pdf(nd_mean, nd_std, x)\n",
    "# We can calculate the probability when 20 <= x <= 22\n",
    "x1 = 20\n",
    "x2 = 22\n",
    "prb_case2 = get_nd_cdf(nd_mean, nd_std, x2) - get_nd_cdf(nd_mean, nd_std, x1)\n",
    "                                      \n",
    "# Print results\n",
    "print('Case 1: Probability(x={x}) = {p:.3f}'.format(x=x, p=prb_case1))\n",
    "print('Case 2: Probability({x1} <= x <= {x2}) = {p:.3f}'.format(x1=x1, x2=x2, p=prb_case2))"
   ]
  },
  {
   "cell_type": "code",
   "execution_count": 4,
   "id": "b90298c6",
   "metadata": {},
   "outputs": [
    {
     "name": "stdout",
     "output_type": "stream",
     "text": [
      "Case 1: Probability(x=21) = 0.176\n",
      "Case 2: Probability(20 <= x <= 22) = 0.341\n"
     ]
    }
   ],
   "source": [
    "# Example 2\n",
    "# by SciPy\n",
    "from scipy.stats import norm\n",
    "prb_case1 = norm.pdf(x, loc=nd_mean, scale=nd_std)\n",
    "prb_case2 = norm.cdf(x2, loc=nd_mean, scale=nd_std) - norm.cdf(x1, loc=nd_mean, scale=nd_std)\n",
    "# Print results\n",
    "print('Case 1: Probability(x={x}) = {p:.3f}'.format(x=x, p=prb_case1))\n",
    "print('Case 2: Probability({x1} <= x <= {x2}) = {p:.3f}'.format(x1=x1, x2=x2, p=prb_case2))"
   ]
  },
  {
   "cell_type": "markdown",
   "id": "1cf700cf",
   "metadata": {},
   "source": [
    "## Central Limit Theorem\n",
    "\n",
    "One of importances of Normal Distribution is [Central Limit Theorem](https://en.wikipedia.org/wiki/Central_limit_theorem) (CLT). It states that for a large enough samples, the distribution of the sample mean will approach normal distribution. This holds for a sample of independent random variables from any distribution with a finite standard deviation."
   ]
  },
  {
   "cell_type": "code",
   "execution_count": 5,
   "id": "dcdfda5b",
   "metadata": {},
   "outputs": [
    {
     "name": "stdout",
     "output_type": "stream",
     "text": [
      "P(484.320 <= x <= 515.680) = 0.95\n"
     ]
    }
   ],
   "source": [
    "# Example\n",
    "import math\n",
    "\n",
    "# We have a sample of 100 values from a population with mean = 500, standard deviation = 80\n",
    "# We are asked to calculate a lower bound L and an upper bound U when probability of X between L and U is 95%\n",
    "# where z-score is 1.96\n",
    "sample_size = 100\n",
    "mean = 500\n",
    "std = 80\n",
    "prob = 0.95\n",
    "z_score = 1.96\n",
    "\n",
    "# Calculation\n",
    "lower_bound = mean - (std/math.sqrt(sample_size)) * z_score\n",
    "upper_bound = mean + (std/math.sqrt(sample_size)) * z_score\n",
    "\n",
    "# Print result\n",
    "print('P({l:.3f} <= x <= {u:.3f}) = {p}'.format(l=lower_bound, u=upper_bound, p=prob))"
   ]
  },
  {
   "cell_type": "code",
   "execution_count": null,
   "id": "a65fce6f",
   "metadata": {},
   "outputs": [],
   "source": []
  }
 ],
 "metadata": {
  "kernelspec": {
   "display_name": "Python 3 (ipykernel)",
   "language": "python",
   "name": "python3"
  },
  "language_info": {
   "codemirror_mode": {
    "name": "ipython",
    "version": 3
   },
   "file_extension": ".py",
   "mimetype": "text/x-python",
   "name": "python",
   "nbconvert_exporter": "python",
   "pygments_lexer": "ipython3",
   "version": "3.9.7"
  }
 },
 "nbformat": 4,
 "nbformat_minor": 5
}
