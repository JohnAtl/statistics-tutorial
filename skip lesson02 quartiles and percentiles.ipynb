{
 "cells": [
  {
   "cell_type": "markdown",
   "id": "cf3a29de",
   "metadata": {},
   "source": [
    "# Statistics Tutorial - Lesson 2\n",
    "# Quartiles and Percentiles"
   ]
  },
  {
   "cell_type": "markdown",
   "id": "ecf4a536",
   "metadata": {},
   "source": [
    "## Quartiles\n",
    "\n",
    "[Quartiles](https://en.wikipedia.org/wiki/Quartile) divide the number of ordered data points into four parts. The three main quartiles are as follows: \n",
    "- The 1st quartile is the middle number between the smallest number and the median of the data set.\n",
    "- The 2nd quartile is the median.\n",
    "- The 3rd quartile is the middle value between the median and the highest value."
   ]
  },
  {
   "cell_type": "code",
   "execution_count": 1,
   "id": "a058ff2b",
   "metadata": {},
   "outputs": [
    {
     "name": "stdout",
     "output_type": "stream",
     "text": [
      "In data set A, 1st Quartile is 11, 2nd Quartile is 14 and 3rd Quartile is 21\n",
      "In data set B, 1st Quartile is 20, 2nd Quartile is 23.5 and 3rd Quartile is 30\n"
     ]
    }
   ],
   "source": [
    "# Example 1\n",
    "def get_median(sorted_list):\n",
    "    \"\"\"\n",
    "    Calculate Median of given sorted list\n",
    "    - the midpoint is meaningful when values are sorted\n",
    "    \"\"\"\n",
    "    count = len(sorted_list)\n",
    "    if count % 2 == 1:\n",
    "        return sorted_list[count//2]\n",
    "    else:\n",
    "        return (sorted_list[count//2-1] + sorted_list[count//2]) / 2\n",
    "    \n",
    "def get_quartiles(sorted_list):\n",
    "    \"\"\"\n",
    "    Calculate quartiles of given sorted list\n",
    "    \n",
    "    Return\n",
    "    ------\n",
    "    1st quartile, 2nd quartile, 3rd quartile\n",
    "    \"\"\"\n",
    "    median_value = get_median(sorted_list)\n",
    "    count = len(sorted_list)\n",
    "    if count % 2 == 1:\n",
    "        first_quartile = get_median(sorted_list[:count//2])\n",
    "        third_quartile = get_median(sorted_list[count//2+1:])\n",
    "        return first_quartile, median_value, third_quartile\n",
    "    else:\n",
    "        first_quartile = get_median(sorted_list[:count//2])\n",
    "        third_quartile = get_median(sorted_list[count//2:])\n",
    "        return first_quartile, median_value, third_quartile        \n",
    "    \n",
    "data_set_A = sorted([9, 11, 13, 14, 17, 21, 22])\n",
    "q1_a, q2_a, q3_a = get_quartiles(data_set_A)\n",
    "print('In data set A, 1st Quartile is {}, 2nd Quartile is {} and 3rd Quartile is {}'.format(q1_a, q2_a, q3_a))\n",
    "\n",
    "data_set_B = sorted([19, 20, 23, 24, 30, 32])\n",
    "q1_b, q2_b, q3_b = get_quartiles(data_set_B)\n",
    "print('In data set B, 1st Quartile is {}, 2nd Quartile is {} and 3rd Quartile is {}'.format(q1_b, q2_b, q3_b))\n"
   ]
  },
  {
   "cell_type": "code",
   "execution_count": 2,
   "id": "28547b0e",
   "metadata": {},
   "outputs": [
    {
     "name": "stdout",
     "output_type": "stream",
     "text": [
      "In data set A, 1st Quartile is 11.0, 2nd Quartile is 14.0 and 3rd Quartile is 21.0\n",
      "In data set B, 1st Quartile is 19.75, 2nd Quartile is 23.5 and 3rd Quartile is 30.5\n"
     ]
    }
   ],
   "source": [
    "# Example 2\n",
    "# by built-in statistics library\n",
    "from statistics import quantiles\n",
    "\n",
    "q1_a, q2_a, q3_a = quantiles(data_set_A)\n",
    "print('In data set A, 1st Quartile is {}, 2nd Quartile is {} and 3rd Quartile is {}'.format(q1_a, q2_a, q3_a))\n",
    "\n",
    "q1_b, q2_b, q3_b = quantiles(data_set_B)\n",
    "print('In data set B, 1st Quartile is {}, 2nd Quartile is {} and 3rd Quartile is {}'.format(q1_b, q2_b, q3_b))\n"
   ]
  },
  {
   "cell_type": "markdown",
   "id": "64d3b8ea",
   "metadata": {},
   "source": [
    "For the above exanple, the built-in library interpolates between data points to find empirical quantiles, so the results are different from the example 1. See explanation at [Quartile's Computing Method](https://en.wikipedia.org/wiki/Quartile)."
   ]
  },
  {
   "cell_type": "code",
   "execution_count": 3,
   "id": "b81230b5",
   "metadata": {},
   "outputs": [
    {
     "name": "stdout",
     "output_type": "stream",
     "text": [
      "In data set A, 1st Quartile is 11, 2nd Quartile is 14 and 3rd Quartile is 21\n",
      "In data set B, 1st Quartile is 20, 2nd Quartile is 23 and 3rd Quartile is 30\n"
     ]
    }
   ],
   "source": [
    "# Example 3\n",
    "# by NumPy\n",
    "import numpy as np\n",
    "\n",
    "array_A = np.array(data_set_A)\n",
    "q1_a = np.percentile(array_A, 25, method='inverted_cdf')\n",
    "q2_a = np.percentile(array_A, 50, method='inverted_cdf')\n",
    "q3_a = np.percentile(array_A, 75, method='inverted_cdf')\n",
    "print('In data set A, 1st Quartile is {}, 2nd Quartile is {} and 3rd Quartile is {}'.format(q1_a, q2_a, q3_a))\n",
    "\n",
    "array_B = np.array(data_set_B)\n",
    "q1_b = np.percentile(array_B, 25, method='inverted_cdf')\n",
    "q2_b = np.percentile(array_B, 50, method='inverted_cdf')\n",
    "q3_b = np.percentile(array_B, 75, method='inverted_cdf')\n",
    "print('In data set B, 1st Quartile is {}, 2nd Quartile is {} and 3rd Quartile is {}'.format(q1_b, q2_b, q3_b))\n"
   ]
  },
  {
   "cell_type": "markdown",
   "id": "8c5f8b9f",
   "metadata": {},
   "source": [
    "*CDF stands for [Cumulative Distribution Function](https://en.wikipedia.org/wiki/Cumulative_distribution_function)*"
   ]
  },
  {
   "cell_type": "markdown",
   "id": "c402fa8e",
   "metadata": {},
   "source": [
    "## Percentiles\n",
    "\n",
    "[Percentiles](https://en.wikipedia.org/wiki/Percentile) are often used to divide ordered data points. They divide into 100 parts as named. \n",
    "\n",
    "In addition, Percentiles are closely related to Qartiles. The 25th percentile is also known as the first quartile, the 50th percentile as the median or second quartile, and the 75th percentile as the third quartile. "
   ]
  },
  {
   "cell_type": "code",
   "execution_count": 4,
   "id": "34df0ee5",
   "metadata": {},
   "outputs": [
    {
     "name": "stdout",
     "output_type": "stream",
     "text": [
      "In data set A, 25th Percentile is 12.0, 50th Percentile is 14 and 75th Percentile is 19.0\n",
      "In data set B, 25th Percentile is 20.75, 50th Percentile is 23.5 and 75th Percentile is 28.5\n"
     ]
    }
   ],
   "source": [
    "# Example 1\n",
    "import math\n",
    "\n",
    "def get_percentile(sorted_list, percent):\n",
    "    n = len(sorted_list)\n",
    "    k = (n-1) * percent\n",
    "    f = math.floor(k)\n",
    "    c = math.ceil(k)\n",
    "    if f == c:\n",
    "        return sorted_list[int(k)]\n",
    "    else:\n",
    "        d0 = sorted_list[int(f)] * (c-k)\n",
    "        d1 = sorted_list[int(c)] * (k-f)\n",
    "        return d0 + d1\n",
    "\n",
    "q1_a = get_percentile(data_set_A, 0.25)\n",
    "q2_a = get_percentile(data_set_A, 0.50)\n",
    "q3_a = get_percentile(data_set_A, 0.75)\n",
    "print('In data set A, 25th Percentile is {}, 50th Percentile is {} and 75th Percentile is {}'.format(q1_a, q2_a, q3_a))\n",
    "\n",
    "q1_b = get_percentile(data_set_B, 0.25)\n",
    "q2_b = get_percentile(data_set_B, 0.50)\n",
    "q3_b = get_percentile(data_set_B, 0.75)\n",
    "print('In data set B, 25th Percentile is {}, 50th Percentile is {} and 75th Percentile is {}'.format(q1_b, q2_b, q3_b))\n"
   ]
  },
  {
   "cell_type": "code",
   "execution_count": 5,
   "id": "e89933b1",
   "metadata": {},
   "outputs": [
    {
     "name": "stdout",
     "output_type": "stream",
     "text": [
      "In data set A, 25th Percentile is 11.0, 50th Percentile is 14.0 and 75th Percentile is 21.0\n",
      "In data set B, 1st Quartile is 19.75, 2nd Quartile is 23.5 and 3rd Quartile is 30.5\n"
     ]
    }
   ],
   "source": [
    "# Example 2\n",
    "# by built-in statistics library\n",
    "from statistics import quantiles\n",
    "\n",
    "percentiles_A = quantiles(data_set_A, n=100)\n",
    "print('In data set A, 25th Percentile is {}, 50th Percentile is {} and 75th Percentile is {}'.format(percentiles_A[25-1], percentiles_A[50-1], percentiles_A[75-1]))\n",
    "\n",
    "percentiles_B = quantiles(data_set_B, n=100)\n",
    "print('In data set B, 1st Quartile is {}, 2nd Quartile is {} and 3rd Quartile is {}'.format(percentiles_B[25-1], percentiles_B[50-1], percentiles_B[75-1]))\n"
   ]
  },
  {
   "cell_type": "markdown",
   "id": "53faed3a",
   "metadata": {},
   "source": [
    "## Interquartile Range (IQR)\n",
    "\n",
    "An important use of quartiles is to calculate [Interquartile range](https://en.wikipedia.org/wiki/Interquartile_range) or IQR. IQR represents the difference between the 3rd and the 1st quartiles of a data set. This can be used as an indicator for variability of the dataset."
   ]
  },
  {
   "cell_type": "code",
   "execution_count": 6,
   "id": "878be2bf",
   "metadata": {},
   "outputs": [
    {
     "name": "stdout",
     "output_type": "stream",
     "text": [
      "IQR of data set A is 10\n",
      "IQR of data set B is 10\n"
     ]
    }
   ],
   "source": [
    "# Example 1\n",
    "q1_a, _, q3_a = get_quartiles(data_set_A)\n",
    "print('IQR of data set A is {}'.format(q3_a - q1_a))\n",
    "\n",
    "q1_b, _, q3_b = get_quartiles(data_set_B)\n",
    "print('IQR of data set B is {}'.format(q3_b - q1_b))"
   ]
  },
  {
   "cell_type": "code",
   "execution_count": 7,
   "id": "1e01907a",
   "metadata": {},
   "outputs": [
    {
     "name": "stdout",
     "output_type": "stream",
     "text": [
      "IQR of data set A is 10.0\n",
      "IQR of data set B is 10.75\n"
     ]
    }
   ],
   "source": [
    "# Example 2\n",
    "# by built-in statistics library\n",
    "\n",
    "q1_a, _, q3_a = quantiles(data_set_A)\n",
    "print('IQR of data set A is {}'.format(q3_a - q1_a))\n",
    "\n",
    "q1_b, _, q3_b = quantiles(data_set_B)\n",
    "print('IQR of data set B is {}'.format(q3_b - q1_b))"
   ]
  },
  {
   "cell_type": "code",
   "execution_count": 8,
   "id": "eba0a679",
   "metadata": {},
   "outputs": [
    {
     "name": "stdout",
     "output_type": "stream",
     "text": [
      "IQR of data set A is 7.0\n",
      "IQR of data set B is 7.75\n"
     ]
    }
   ],
   "source": [
    "# Example 3\n",
    "# by SciPy\n",
    "from scipy.stats import iqr\n",
    "print('IQR of data set A is {}'.format(iqr(array_A)))\n",
    "print('IQR of data set B is {}'.format(iqr(array_B)))"
   ]
  },
  {
   "cell_type": "markdown",
   "id": "96d46bad",
   "metadata": {},
   "source": [
    "## Boxplot\n",
    "\n",
    "A [boxplot](https://en.wikipedia.org/wiki/Box_plot) is a method for graphically demonstrating the locality, spread and skewness groups of numerical data through their quartiles. It shows minimum, first quartile, median, third quartile and maximum."
   ]
  },
  {
   "cell_type": "code",
   "execution_count": 9,
   "id": "b5d2f2c1",
   "metadata": {},
   "outputs": [
    {
     "data": {
      "image/png": "[encoded data removed]",
      "text/plain": [
       "<Figure size 432x288 with 1 Axes>"
      ]
     },
     "metadata": {
      "needs_background": "light"
     },
     "output_type": "display_data"
    }
   ],
   "source": [
    "# Example for Data set A and B\n",
    "import matplotlib.pyplot as plt\n",
    "given_data = [data_set_A, data_set_B]\n",
    "fig, ax = plt.subplots()\n",
    "ax.set_title('Box Plot - A & B')\n",
    "ax.boxplot(given_data, labels=['A', 'B'])\n",
    "ax.yaxis.grid(True)\n",
    "plt.show()"
   ]
  },
  {
   "cell_type": "code",
   "execution_count": null,
   "id": "b2f6c41c",
   "metadata": {},
   "outputs": [],
   "source": []
  }
 ],
 "metadata": {
  "kernelspec": {
   "display_name": "Python 3 (ipykernel)",
   "language": "python",
   "name": "python3"
  },
  "language_info": {
   "codemirror_mode": {
    "name": "ipython",
    "version": 3
   },
   "file_extension": ".py",
   "mimetype": "text/x-python",
   "name": "python",
   "nbconvert_exporter": "python",
   "pygments_lexer": "ipython3",
   "version": "3.9.12"
  }
 },
 "nbformat": 4,
 "nbformat_minor": 5
}
